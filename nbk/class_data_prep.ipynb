{
 "cells": [
  {
   "cell_type": "markdown",
   "id": "27a22a36-8b6f-4d46-9cbc-dcf27ce5fe8f",
   "metadata": {},
   "source": [
    "# Classification Data Preparation\n",
    "**Hunter Estuary KBA, NSW - Change Detection**\n",
    "\n",
    "\n",
    "Author: Michael Dear, June 2024\n",
    "\n",
    "This notebook adds classification variables to the dataset."
   ]
  },
  {
   "cell_type": "markdown",
   "id": "40b3d40c-cd8b-48e2-a3b5-a5205c28db8c",
   "metadata": {},
   "source": [
    "## Setup"
   ]
  },
  {
   "cell_type": "code",
   "execution_count": 1,
   "id": "1306ffce-ba98-4257-9d53-0eeabaad19db",
   "metadata": {
    "tags": []
   },
   "outputs": [],
   "source": [
    "%matplotlib inline\n",
    "\n",
    "import matplotlib.pyplot as plt\n",
    "import xarray as xr\n",
    "import rioxarray\n",
    "import numpy as np\n",
    "import pandas as pd\n",
    "import geopandas as gpd\n",
    "\n",
    "# Turn off warnings\n",
    "import warnings\n",
    "warnings.filterwarnings('ignore')"
   ]
  },
  {
   "cell_type": "markdown",
   "id": "a67fac7e-abc2-45b2-89b1-f49e61cf91c1",
   "metadata": {},
   "source": [
    "### Global Parameters\n",
    "* Global parameters are used in multiple places\n",
    "* Local parameters should be found above the relevant code"
   ]
  },
  {
   "cell_type": "code",
   "execution_count": 2,
   "id": "131a7e29-1cd2-43c9-87ce-7576a5bd27f5",
   "metadata": {
    "tags": []
   },
   "outputs": [],
   "source": [
    "from global_params import *\n",
    "\n",
    "# Random state for reproducibility\n",
    "random_state = 11\n",
    "\n",
    "y_var = ['class_num']"
   ]
  },
  {
   "cell_type": "markdown",
   "id": "5a9efc71-4749-4f78-8b7a-90943dd79da2",
   "metadata": {},
   "source": [
    "## Step 1: Load data"
   ]
  },
  {
   "cell_type": "code",
   "execution_count": 3,
   "id": "4e4e4703-2544-4b02-afa0-113c220d1410",
   "metadata": {
    "tags": []
   },
   "outputs": [],
   "source": [
    "ds = xr.load_dataset(netcdf_dir+study_area_abbrev+'.nc')"
   ]
  },
  {
   "cell_type": "code",
   "execution_count": 4,
   "id": "0f7a04b3-2bab-4585-8213-c946c415aa69",
   "metadata": {},
   "outputs": [],
   "source": [
    "# Replace NaN with -999\n",
    "ds = ds.where(ds.notnull(), -999)"
   ]
  },
  {
   "cell_type": "code",
   "execution_count": 5,
   "id": "3f763b46-ee58-422a-b487-515b7e49d450",
   "metadata": {
    "tags": []
   },
   "outputs": [],
   "source": [
    "mask = xr.load_dataarray(netcdf_dir+'mask.nc')"
   ]
  },
  {
   "cell_type": "code",
   "execution_count": 6,
   "id": "8bd44fb1-ef07-4ac9-b3e4-2e70470cc14b",
   "metadata": {
    "tags": []
   },
   "outputs": [],
   "source": [
    "# Load the polygon\n",
    "poly = gpd.read_file(vector_dir+study_area_abbrev+'.geojson')\n",
    "\n",
    "# Set the crs to 4326, then convert to projected crs\n",
    "# poly = poly.set_crs(4326).to_crs(crs)\n",
    "poly = poly.to_crs(crs)"
   ]
  },
  {
   "cell_type": "code",
   "execution_count": 7,
   "id": "3a57f078-8f75-4d5e-89c0-06408ff8e3cd",
   "metadata": {},
   "outputs": [
    {
     "data": {
      "text/html": [
       "<div>\n",
       "<style scoped>\n",
       "    .dataframe tbody tr th:only-of-type {\n",
       "        vertical-align: middle;\n",
       "    }\n",
       "\n",
       "    .dataframe tbody tr th {\n",
       "        vertical-align: top;\n",
       "    }\n",
       "\n",
       "    .dataframe thead th {\n",
       "        text-align: right;\n",
       "    }\n",
       "</style>\n",
       "<table border=\"1\" class=\"dataframe\">\n",
       "  <thead>\n",
       "    <tr style=\"text-align: right;\">\n",
       "      <th></th>\n",
       "      <th>name</th>\n",
       "      <th>description</th>\n",
       "      <th>timestamp</th>\n",
       "      <th>begin</th>\n",
       "      <th>end</th>\n",
       "      <th>altitudemode</th>\n",
       "      <th>tessellate</th>\n",
       "      <th>extrude</th>\n",
       "      <th>visibility</th>\n",
       "      <th>draworder</th>\n",
       "      <th>icon</th>\n",
       "      <th>snippet</th>\n",
       "      <th>geometry</th>\n",
       "    </tr>\n",
       "  </thead>\n",
       "  <tbody>\n",
       "    <tr>\n",
       "      <th>2</th>\n",
       "      <td>Buffered 1000m</td>\n",
       "      <td>&lt;html xmlns:fo=\"http://www.w3.org/1999/XSL/For...</td>\n",
       "      <td>None</td>\n",
       "      <td>None</td>\n",
       "      <td>None</td>\n",
       "      <td>clampToGround</td>\n",
       "      <td>-1</td>\n",
       "      <td>0</td>\n",
       "      <td>-1</td>\n",
       "      <td>None</td>\n",
       "      <td>None</td>\n",
       "      <td></td>\n",
       "      <td>MULTIPOLYGON Z (((1814655.723 -3723941.457 0.0...</td>\n",
       "    </tr>\n",
       "  </tbody>\n",
       "</table>\n",
       "</div>"
      ],
      "text/plain": [
       "             name                                        description  \\\n",
       "2  Buffered 1000m  <html xmlns:fo=\"http://www.w3.org/1999/XSL/For...   \n",
       "\n",
       "  timestamp begin   end   altitudemode  tessellate  extrude  visibility  \\\n",
       "2      None  None  None  clampToGround          -1        0          -1   \n",
       "\n",
       "  draworder  icon snippet                                           geometry  \n",
       "2      None  None          MULTIPOLYGON Z (((1814655.723 -3723941.457 0.0...  "
      ]
     },
     "execution_count": 7,
     "metadata": {},
     "output_type": "execute_result"
    }
   ],
   "source": [
    "# Select the polygon to use\n",
    "poly = poly[poly['name']=='Buffered 1000m']\n",
    "poly"
   ]
  },
  {
   "cell_type": "code",
   "execution_count": 8,
   "id": "12e0a9bb-f38c-48b5-b48c-ba13db77953f",
   "metadata": {},
   "outputs": [],
   "source": [
    "# Set the crs to 4326, then convert to projected crs\n",
    "# poly = poly.set_crs(4326).to_crs(crs)\n",
    "poly = poly.to_crs(crs)"
   ]
  },
  {
   "cell_type": "code",
   "execution_count": 9,
   "id": "63f2fcdc-1a82-4e42-8b6b-b645b29c3feb",
   "metadata": {},
   "outputs": [
    {
     "data": {
      "text/plain": [
       "['Sep 2003', 'Sep 2023']"
      ]
     },
     "execution_count": 9,
     "metadata": {},
     "output_type": "execute_result"
    }
   ],
   "source": [
    "# Put the period names in a list for convenience.\n",
    "periods = list(ds.period.values)\n",
    "periods"
   ]
  },
  {
   "cell_type": "markdown",
   "id": "4f7ade61-fc52-408f-b02b-e90c44515010",
   "metadata": {},
   "source": [
    "## Step 2: Ground-truth Points (GTP)\n",
    "The process is:\n",
    "1. Create polygons for each class using QGIS, Google Earth, and composite plots for each period.\n",
    "2. Intersect the polygons with the data array to create a candidate set of points for each period.\n",
    "3. Reduce the candidate set in each class to the size of the smallest class.\n",
    "4. Train the classifier.\n",
    "5. Predict.\n",
    "\n",
    "See https://stackoverflow.com/questions/65504116/how-to-convert-a-xarray-dataarray-to-a-geopandas-geodataframe for converting a data array to points."
   ]
  },
  {
   "cell_type": "code",
   "execution_count": 11,
   "id": "87a31aec-c639-4634-b134-cdb5b91df463",
   "metadata": {},
   "outputs": [],
   "source": [
    "# Read in the labelled polygons\n",
    "gtp_polys = [gpd.read_file(vector_dir+'gtp_polygons_'+str(i)+'.geojson').to_crs(crs) for i in [0,1]]"
   ]
  },
  {
   "cell_type": "markdown",
   "id": "caa45651-21bb-460a-9455-a84736d58272",
   "metadata": {
    "jp-MarkdownHeadingCollapsed": true
   },
   "source": [
    "-----\n",
    "#### (Optional) Apply internal buffer"
   ]
  },
  {
   "cell_type": "code",
   "execution_count": 12,
   "id": "fe0ead0c-a4b4-4db9-8d57-7bc35be4b62d",
   "metadata": {},
   "outputs": [],
   "source": [
    "# Apply internal buffer if required\n",
    "for i in [0,1]:\n",
    "    gtp_polys[i]['geometry'] = gtp_polys[i].buffer(-10)"
   ]
  },
  {
   "cell_type": "markdown",
   "id": "79d1494b-0ab3-4fc5-aa67-0424a5ebbce8",
   "metadata": {},
   "source": [
    "------"
   ]
  },
  {
   "cell_type": "markdown",
   "id": "a858c4f6-99d6-4d26-808f-59c52247421a",
   "metadata": {
    "jp-MarkdownHeadingCollapsed": true
   },
   "source": [
    "#### Check the data"
   ]
  },
  {
   "cell_type": "code",
   "execution_count": 13,
   "id": "99e13089-295f-40db-b0bb-cc51fabaa723",
   "metadata": {},
   "outputs": [
    {
     "name": "stdout",
     "output_type": "stream",
     "text": [
      "   class_num   class_name                                           geometry\n",
      "0          2    Developed  MULTIPOLYGON (((1829986.860 -3730239.381, 1830...\n",
      "1          6       Wooded  MULTIPOLYGON (((1833464.467 -3722456.522, 1833...\n",
      "2          1        Water  MULTIPOLYGON (((1831249.516 -3722539.018, 1831...\n",
      "3          3  Green Grass  MULTIPOLYGON (((1832542.021 -3720796.370, 1833...\n",
      "4          5        Swamp  MULTIPOLYGON (((1829002.467 -3721334.843, 1829...\n",
      "5          4  Brown Grass  MULTIPOLYGON (((1827723.345 -3726985.121, 1828...\n",
      "   class_num   class_name                                           geometry\n",
      "0          2    Developed  MULTIPOLYGON (((1829986.860 -3730239.381, 1830...\n",
      "1          6       Wooded  MULTIPOLYGON (((1833464.467 -3722456.522, 1833...\n",
      "2          1        Water  MULTIPOLYGON (((1831249.516 -3722539.018, 1831...\n",
      "3          4  Brown Grass  MULTIPOLYGON (((1826384.549 -3722484.840, 1826...\n",
      "4          5        Swamp  MULTIPOLYGON (((1819311.043 -3722117.519, 1821...\n",
      "5          3  Green Grass  MULTIPOLYGON (((1833996.344 -3721526.888, 1834...\n"
     ]
    }
   ],
   "source": [
    "for i in [0,1]:\n",
    "    print(gtp_polys[i].head(6))"
   ]
  },
  {
   "cell_type": "code",
   "execution_count": 39,
   "id": "7a0e151b-5708-484b-877f-3a766703f47a",
   "metadata": {},
   "outputs": [
    {
     "data": {
      "image/png": "[encoded data removed]",
      "text/plain": [
       "<Figure size 640x480 with 2 Axes>"
      ]
     },
     "metadata": {},
     "output_type": "display_data"
    }
   ],
   "source": [
    "# Plot to check the data\n",
    "fig, axes = plt.subplots(1,2, sharey=True)\n",
    "for i in [0,1]:\n",
    "    unq_nums = np.unique(gtp_polys[i]['class_num'])\n",
    "    gtp_polys[i].plot(ax=axes[i], column='class_num')"
   ]
  },
  {
   "cell_type": "markdown",
   "id": "590d5a59-c9d3-4125-97ba-9d1367e11015",
   "metadata": {},
   "source": [
    "#### Select the variables to use"
   ]
  },
  {
   "cell_type": "code",
   "execution_count": 12,
   "id": "0cfa8812-cdf3-4fb9-bf93-380d216ecc31",
   "metadata": {},
   "outputs": [
    {
     "data": {
      "text/plain": [
       "['nbart_red',\n",
       " 'nbart_blue',\n",
       " 'nbart_green',\n",
       " 'nbart_nir',\n",
       " 'nbart_swir_1',\n",
       " 'nbart_swir_2',\n",
       " 'NDVI',\n",
       " 'NBR',\n",
       " 'NDWI']"
      ]
     },
     "execution_count": 12,
     "metadata": {},
     "output_type": "execute_result"
    }
   ],
   "source": [
    "X_vars = list(ds.data_vars.keys())[:9]\n",
    "X_vars"
   ]
  },
  {
   "cell_type": "markdown",
   "id": "16d5d288-a934-49fd-a094-2ad4a0c5ade1",
   "metadata": {},
   "source": [
    "#### Create the base GTP data frames"
   ]
  },
  {
   "cell_type": "code",
   "execution_count": 13,
   "id": "2ce96057-327c-49d7-9b1d-24b2df3f8772",
   "metadata": {},
   "outputs": [],
   "source": [
    "gtp_base = [[],[]]\n",
    "thold_var = ''\n",
    "\n",
    "for i in [0,1]:\n",
    "    # Convert the data array to a data frame\n",
    "    df = ds.isel(period=i).to_dataframe().reset_index()\n",
    "    \n",
    "    # Convert to a GeoDataFrame\n",
    "    gdf = gpd.GeoDataFrame(df, geometry=gpd.points_from_xy(df.x,df.y)).set_crs(crs)\n",
    "\n",
    "    # Make a bare/water class using NDVI threshold\n",
    "    if thold_var!='':\n",
    "        bare = gdf[gdf[thold_var]<= -0.025]\n",
    "        bare['class_num'] = 0\n",
    "        bare['class_name'] = 'Water'\n",
    "    \n",
    "    # Intersect the points with the polygons\n",
    "    gdf = gpd.sjoin(gdf, gtp_polys[i], how='inner') # Limit to polygon\n",
    "\n",
    "    if thold_var!='':\n",
    "        gtp_base[i] = pd.concat([gdf[X_vars+['class_num','class_name','geometry']], bare[X_vars+['class_num','class_name','geometry']]], axis=0)\n",
    "    else:\n",
    "        gtp_base[i] = gdf[X_vars+['class_num','class_name','geometry']]\n",
    "\n",
    "    gtp_base[i]['class_num'] = gtp_base[i]['class_num'].astype(np.int16)"
   ]
  },
  {
   "cell_type": "markdown",
   "id": "bc43a091-0022-4b7d-80f1-b1a6b4d8c368",
   "metadata": {
    "jp-MarkdownHeadingCollapsed": true
   },
   "source": [
    "#### Check the data"
   ]
  },
  {
   "cell_type": "code",
   "execution_count": 17,
   "id": "15d3aaf2-adba-4794-9d71-19a071feb25c",
   "metadata": {},
   "outputs": [
    {
     "name": "stdout",
     "output_type": "stream",
     "text": [
      "Period: 0\n",
      "       nbart_red  nbart_blue  nbart_green  nbart_nir  nbart_swir_1  \\\n",
      "12191      423.5       249.0        435.0     2022.0        1144.5   \n",
      "12969      463.5       292.5        468.5     1829.5        1282.5   \n",
      "12970      398.5       254.0        429.5     1916.5        1144.0   \n",
      "12971      420.5       266.0        432.5     2053.0        1139.0   \n",
      "13748      480.0       304.5        509.5     1906.5        1292.0   \n",
      "\n",
      "       nbart_swir_2      NDVI       NBR      NDWI  class_num class_name  \\\n",
      "12191         562.0  0.655952  0.564469 -0.648909          6     Wooded   \n",
      "12969         691.5  0.597180  0.450674 -0.595462          6     Wooded   \n",
      "12970         515.0  0.657097  0.576247 -0.637180          6     Wooded   \n",
      "12971         519.0  0.662220  0.596566 -0.654917          6     Wooded   \n",
      "13748         627.0  0.600103  0.504367 -0.581278          6     Wooded   \n",
      "\n",
      "                               geometry  \n",
      "12191  POINT (1827645.000 -3717135.000)  \n",
      "12969  POINT (1827615.000 -3717165.000)  \n",
      "12970  POINT (1827645.000 -3717165.000)  \n",
      "12971  POINT (1827675.000 -3717165.000)  \n",
      "13748  POINT (1827615.000 -3717195.000)  \n",
      "--------------\n",
      "Period: 1\n",
      "      nbart_red  nbart_blue  nbart_green  nbart_nir  nbart_swir_1  \\\n",
      "8204      750.5       521.5        869.0     3854.0        2370.0   \n",
      "8205      767.5       529.5        881.0     3865.5        2378.5   \n",
      "8206      673.5       490.0        822.5     4031.0        2232.0   \n",
      "8207      724.0       514.5        847.0     3963.5        2345.5   \n",
      "8208      815.5       550.5        901.0     3816.5        2513.0   \n",
      "\n",
      "      nbart_swir_2      NDVI       NBR      NDWI  class_num   class_name  \\\n",
      "8204        1195.0  0.674002  0.527114 -0.631778          3  Green Grass   \n",
      "8205        1202.0  0.668674  0.526053 -0.628626          3  Green Grass   \n",
      "8206        1095.5  0.713565  0.572921 -0.660926          3  Green Grass   \n",
      "8207        1195.5  0.690827  0.536509 -0.647642          3  Green Grass   \n",
      "8208        1313.0  0.647425  0.487877 -0.617675          3  Green Grass   \n",
      "\n",
      "                              geometry  \n",
      "8204  POINT (1824885.000 -3716985.000)  \n",
      "8205  POINT (1824915.000 -3716985.000)  \n",
      "8206  POINT (1824945.000 -3716985.000)  \n",
      "8207  POINT (1824975.000 -3716985.000)  \n",
      "8208  POINT (1825005.000 -3716985.000)  \n",
      "--------------\n"
     ]
    }
   ],
   "source": [
    "for i in [0,1]:\n",
    "    print('Period:', i)\n",
    "    print(gtp_base[i].head())\n",
    "    print('--------------')"
   ]
  },
  {
   "cell_type": "markdown",
   "id": "7a91ae04-15e2-4882-812b-ff0b67d66591",
   "metadata": {},
   "source": [
    "#### Count the number of points in each class"
   ]
  },
  {
   "cell_type": "code",
   "execution_count": 14,
   "id": "cc2eac95-5098-4619-9e9e-ccc8bf024c5c",
   "metadata": {},
   "outputs": [
    {
     "name": "stdout",
     "output_type": "stream",
     "text": [
      "Period: 0\n",
      "class_num\n",
      "2    5212\n",
      "5    4729\n",
      "6    2236\n",
      "1    1780\n",
      "4    1271\n",
      "3     684\n",
      "Name: count, dtype: int64\n",
      "--------------\n",
      "Period: 1\n",
      "class_num\n",
      "2    5046\n",
      "5    1597\n",
      "6    1204\n",
      "3    1112\n",
      "1     881\n",
      "4     661\n",
      "Name: count, dtype: int64\n",
      "--------------\n"
     ]
    }
   ],
   "source": [
    "# Count the number of points in each class\n",
    "for i in [0,1]:\n",
    "    print('Period:', i)\n",
    "    print(gtp_base[i]['class_num'].value_counts())\n",
    "    print('--------------')\n"
   ]
  },
  {
   "cell_type": "markdown",
   "id": "d07ec7a1-889d-453b-becc-0cff957c55b0",
   "metadata": {
    "jp-MarkdownHeadingCollapsed": true
   },
   "source": [
    "#### (Optional) Combine classes"
   ]
  },
  {
   "cell_type": "code",
   "execution_count": 104,
   "id": "4c0a7fcb-210d-4a1c-8fac-267deeffdbf9",
   "metadata": {},
   "outputs": [
    {
     "name": "stdout",
     "output_type": "stream",
     "text": [
      "Dec 2014\n",
      "============\n",
      "[0 1 6 2 4 3 5]\n",
      "['Bare' 'Developed' 'Brown Crops' 'Grass' 'Dense Wooded' 'Medium Wooded'\n",
      " 'Green Crops']\n",
      "--------------\n",
      "Dec 2023\n",
      "============\n",
      "[0 1 6 2 4 3 5]\n",
      "['Bare' 'Developed' 'Brown Crops' 'Grass' 'Dense Wooded' 'Medium Wooded'\n",
      " 'Green Crops']\n",
      "--------------\n"
     ]
    }
   ],
   "source": [
    "for i in [0,1]:\n",
    "    print(periods[i])\n",
    "    print('============')\n",
    "    print(gtp_base[i]['class_num'].unique())\n",
    "    print(gtp_base[i]['class_name'].unique())\n",
    "    print('--------------')"
   ]
  },
  {
   "cell_type": "code",
   "execution_count": 125,
   "id": "b74906f7-002c-4cfa-9bcb-f7ce06a06f10",
   "metadata": {},
   "outputs": [],
   "source": [
    "for i in [0,1]:\n",
    "    gtp_base[i]['class_num'][gtp_base[i]['class_num']==0] = 1\n",
    "    gtp_base[i]['class_name'][gtp_base[i]['class_name']=='Water'] = 'Bare'\n",
    "    gtp_base[i]['class_num'] = gtp_base[i]['class_num'] - 1"
   ]
  },
  {
   "cell_type": "markdown",
   "id": "8164e0fc-5419-400f-a143-0aa87990ad52",
   "metadata": {},
   "source": [
    "#### Reduce each class to the size of the smallest class"
   ]
  },
  {
   "cell_type": "code",
   "execution_count": 67,
   "id": "11637957-8647-41eb-8fd7-2a1f0a85d96a",
   "metadata": {},
   "outputs": [],
   "source": [
    "# Reduce each class to the size of the smallest class\n",
    "sample_size = np.min([gtp_base[i]['class_num'].value_counts().min() for i in [0,1]])\n",
    "\n",
    "gtp_equal = [pd.concat([gtp_base[i][gtp_base[i]['class_num']==cl].sample(sample_size, random_state=random_state) \n",
    "                for cl in gtp_base[i]['class_num'].unique()], axis=0) \n",
    "                for i in [0,1]]"
   ]
  },
  {
   "cell_type": "code",
   "execution_count": 16,
   "id": "9a5f8c43-bbef-4482-9064-125d926a5f2f",
   "metadata": {},
   "outputs": [
    {
     "name": "stdout",
     "output_type": "stream",
     "text": [
      "Sep 2003\n",
      "============\n",
      "class_num\n",
      "6    661\n",
      "2    661\n",
      "3    661\n",
      "4    661\n",
      "1    661\n",
      "5    661\n",
      "Name: count, dtype: int64\n",
      "--------------\n",
      "Sep 2023\n",
      "============\n",
      "class_num\n",
      "3    661\n",
      "2    661\n",
      "4    661\n",
      "5    661\n",
      "6    661\n",
      "1    661\n",
      "Name: count, dtype: int64\n",
      "--------------\n"
     ]
    }
   ],
   "source": [
    "# Count the number of points in each class\n",
    "for i in [0,1]:\n",
    "    print(periods[i])\n",
    "    print('============')\n",
    "    print(gtp_equal[i]['class_num'].value_counts())\n",
    "    print('--------------')\n"
   ]
  },
  {
   "cell_type": "markdown",
   "id": "8310bf9e-a747-4484-b90e-d5b8ac252864",
   "metadata": {},
   "source": [
    "#### Check for nodata_val\n",
    "If the nodata_val occurs in the training data, go back and modify the GTP polygons to remove missing data."
   ]
  },
  {
   "cell_type": "code",
   "execution_count": 19,
   "id": "f536c4ea-9bdc-4ece-9485-1ab81895c4d8",
   "metadata": {},
   "outputs": [
    {
     "name": "stdout",
     "output_type": "stream",
     "text": [
      "Sep 2003\n",
      "============\n",
      "nbart_red       0\n",
      "nbart_blue      0\n",
      "nbart_green     0\n",
      "nbart_nir       0\n",
      "nbart_swir_1    0\n",
      "nbart_swir_2    0\n",
      "NDVI            0\n",
      "NBR             0\n",
      "NDWI            0\n",
      "class_num       0\n",
      "class_name      0\n",
      "geometry        0\n",
      "dtype: int64\n",
      "--------------\n",
      "Sep 2023\n",
      "============\n",
      "nbart_red       0\n",
      "nbart_blue      0\n",
      "nbart_green     0\n",
      "nbart_nir       0\n",
      "nbart_swir_1    0\n",
      "nbart_swir_2    0\n",
      "NDVI            0\n",
      "NBR             0\n",
      "NDWI            0\n",
      "class_num       0\n",
      "class_name      0\n",
      "geometry        0\n",
      "dtype: int64\n",
      "--------------\n"
     ]
    }
   ],
   "source": [
    "# Count the number of missing values\n",
    "for i in [0,1]:\n",
    "    print(periods[i])\n",
    "    print('============')\n",
    "    # print(gtp_equal[i].isnull().sum())\n",
    "    print((gtp_equal[i]==nodata_val).sum())\n",
    "    print('--------------')\n"
   ]
  },
  {
   "cell_type": "markdown",
   "id": "1fd08c95-7a89-4bcb-93d6-08df8f8187a3",
   "metadata": {},
   "source": [
    "#### Add a nodata class"
   ]
  },
  {
   "cell_type": "code",
   "execution_count": 68,
   "id": "afe59a44-f7dd-44a4-9a99-0b8836fa576c",
   "metadata": {},
   "outputs": [
    {
     "name": "stdout",
     "output_type": "stream",
     "text": [
      "Class size: 661\n"
     ]
    }
   ],
   "source": [
    "# Get the size of the classes\n",
    "cl_size = len(gtp_equal[0][gtp_equal[0]['class_num']==1])\n",
    "print('Class size:', cl_size)\n",
    "\n",
    "# Create an array of -999\n",
    "nodata_df = pd.DataFrame([[-999 for i in gtp_equal[0].columns] for j in np.arange(cl_size)], columns=gtp_equal[0].columns)\n",
    "nodata_df['class_num'][nodata_df['class_num']==-999] = 0\n",
    "nodata_df['class_name'][nodata_df['class_name']==-999] = 'No Data'\n",
    "# print(nodata_df.shape)\n",
    "# print(nodata_df.head())\n",
    "\n",
    "# Append to each df in gtp_equal\n",
    "gtp_equal = [pd.concat([df, nodata_df]) for df in gtp_equal]\n"
   ]
  },
  {
   "cell_type": "code",
   "execution_count": 69,
   "id": "59e8ea2d-81f4-4341-94f6-1300831dec1e",
   "metadata": {},
   "outputs": [
    {
     "name": "stdout",
     "output_type": "stream",
     "text": [
      "Sep 2003\n",
      "============\n",
      "class_num  class_name \n",
      "0          No Data        661\n",
      "1          Water          661\n",
      "2          Developed      661\n",
      "3          Green Grass    661\n",
      "4          Brown Grass    661\n",
      "5          Swamp          661\n",
      "6          Wooded         661\n",
      "Name: count, dtype: int64\n",
      "--------------\n",
      "Sep 2023\n",
      "============\n",
      "class_num  class_name \n",
      "0          No Data        661\n",
      "1          Water          661\n",
      "2          Developed      661\n",
      "3          Green Grass    661\n",
      "4          Brown Grass    661\n",
      "5          Swamp          661\n",
      "6          Wooded         661\n",
      "Name: count, dtype: int64\n",
      "--------------\n"
     ]
    }
   ],
   "source": [
    "# Count the number of points in each class\n",
    "for i in [0,1]:\n",
    "    print(periods[i])\n",
    "    print('============')\n",
    "    print(gtp_equal[i][['class_num', 'class_name']].value_counts())\n",
    "    print('--------------')\n"
   ]
  },
  {
   "cell_type": "markdown",
   "id": "e750bfd9-8219-48d7-a009-7b978f31201c",
   "metadata": {},
   "source": [
    "####  Create the class names list"
   ]
  },
  {
   "cell_type": "code",
   "execution_count": 70,
   "id": "6b2db683-e89a-4ad2-9333-efcf61fda657",
   "metadata": {},
   "outputs": [
    {
     "data": {
      "text/plain": [
       "['No Data',\n",
       " 'Water',\n",
       " 'Developed',\n",
       " 'Green Grass',\n",
       " 'Brown Grass',\n",
       " 'Swamp',\n",
       " 'Wooded']"
      ]
     },
     "execution_count": 70,
     "metadata": {},
     "output_type": "execute_result"
    }
   ],
   "source": [
    "# Create the cl_names list\n",
    "# See https://stackoverflow.com/a/52270276/8299958 for joining pandas columns\n",
    "cl_num_name = np.char.split(\n",
    "    (np.unique(gtp_equal[0][['class_num','class_name']]\n",
    "     .apply(lambda row: ', '.join(row.values.astype(str)), axis=1))\n",
    "    ).astype(str),\n",
    "    sep=', '\n",
    ")\n",
    "cl_names = [cl_num_name[i][1] for i in np.arange(len(cl_num_name))]\n",
    "cl_names"
   ]
  },
  {
   "cell_type": "markdown",
   "id": "2b58e408-68be-40f9-a39e-3868c023a4fa",
   "metadata": {},
   "source": [
    "## Step 3: Random Forest\n",
    "Based on\n",
    "* https://www.datacamp.com/tutorial/random-forests-classifier-python\n",
    "* https://www.kaggle.com/code/prashant111/random-forest-classifier-tutorial"
   ]
  },
  {
   "cell_type": "markdown",
   "id": "c1bb2202-b0e5-4833-98f5-cff8cc602c41",
   "metadata": {},
   "source": [
    "#### Imports"
   ]
  },
  {
   "cell_type": "code",
   "execution_count": 71,
   "id": "8cdb7645-9040-41f9-a312-5706fc00ed32",
   "metadata": {},
   "outputs": [],
   "source": [
    "from sklearn.ensemble import RandomForestClassifier\n",
    "from sklearn.metrics import accuracy_score, confusion_matrix, precision_score, recall_score, ConfusionMatrixDisplay\n",
    "from sklearn.model_selection import RandomizedSearchCV, train_test_split\n",
    "from scipy.stats import randint"
   ]
  },
  {
   "cell_type": "markdown",
   "id": "d55eb496-04c7-4ea9-8c77-b52dfe3ed632",
   "metadata": {},
   "source": [
    "#### Create the training and test sets"
   ]
  },
  {
   "cell_type": "code",
   "execution_count": 72,
   "id": "3e5e734d-2356-4eac-8e80-c3b10f28f000",
   "metadata": {},
   "outputs": [
    {
     "data": {
      "text/plain": [
       "['nbart_red',\n",
       " 'nbart_blue',\n",
       " 'nbart_green',\n",
       " 'nbart_nir',\n",
       " 'nbart_swir_1',\n",
       " 'nbart_swir_2',\n",
       " 'NDVI',\n",
       " 'NBR',\n",
       " 'NDWI',\n",
       " 'Kmeans_Class',\n",
       " 'RF_Class']"
      ]
     },
     "execution_count": 72,
     "metadata": {},
     "output_type": "execute_result"
    }
   ],
   "source": [
    "list(ds.data_vars.keys())"
   ]
  },
  {
   "cell_type": "code",
   "execution_count": 73,
   "id": "408b208a-bec1-4c91-a9b2-bbd10f67dc20",
   "metadata": {},
   "outputs": [
    {
     "data": {
      "text/plain": [
       "['nbart_red',\n",
       " 'nbart_blue',\n",
       " 'nbart_green',\n",
       " 'nbart_nir',\n",
       " 'nbart_swir_1',\n",
       " 'nbart_swir_2',\n",
       " 'NDVI',\n",
       " 'NBR',\n",
       " 'NDWI']"
      ]
     },
     "execution_count": 73,
     "metadata": {},
     "output_type": "execute_result"
    }
   ],
   "source": [
    "rf_vars = [list(ds.data_vars.keys())[i] for i in np.arange(9)]\n",
    "rf_vars"
   ]
  },
  {
   "cell_type": "code",
   "execution_count": 74,
   "id": "89684965-9a0d-4cdf-bf87-d574a30248fe",
   "metadata": {},
   "outputs": [],
   "source": [
    "X = [gdf[rf_vars] for gdf in gtp_equal]\n",
    "y = [gdf[y_var] for gdf in gtp_equal]"
   ]
  },
  {
   "cell_type": "code",
   "execution_count": 75,
   "id": "17d3f3b9-4ee3-4070-94c2-6e20d6ea777b",
   "metadata": {},
   "outputs": [],
   "source": [
    "# Need to use `stratify` to get the same number of samples in each class\n",
    "# https://stackoverflow.com/a/29477256/8299958\n",
    "gtp_tt = [train_test_split(X[i], y[i], test_size=0.2, stratify=y[i], random_state=random_state) for i in [0,1]]"
   ]
  },
  {
   "cell_type": "code",
   "execution_count": 76,
   "id": "52c3d302-bff0-4173-8cee-8cc1bb6324e5",
   "metadata": {},
   "outputs": [
    {
     "data": {
      "text/html": [
       "<div>\n",
       "<style scoped>\n",
       "    .dataframe tbody tr th:only-of-type {\n",
       "        vertical-align: middle;\n",
       "    }\n",
       "\n",
       "    .dataframe tbody tr th {\n",
       "        vertical-align: top;\n",
       "    }\n",
       "\n",
       "    .dataframe thead th {\n",
       "        text-align: right;\n",
       "    }\n",
       "</style>\n",
       "<table border=\"1\" class=\"dataframe\">\n",
       "  <thead>\n",
       "    <tr style=\"text-align: right;\">\n",
       "      <th></th>\n",
       "      <th>Train</th>\n",
       "      <th>Test</th>\n",
       "    </tr>\n",
       "  </thead>\n",
       "  <tbody>\n",
       "    <tr>\n",
       "      <th>Sep 2003</th>\n",
       "      <td>528</td>\n",
       "      <td>132</td>\n",
       "    </tr>\n",
       "    <tr>\n",
       "      <th>Sep 2023</th>\n",
       "      <td>528</td>\n",
       "      <td>132</td>\n",
       "    </tr>\n",
       "  </tbody>\n",
       "</table>\n",
       "</div>"
      ],
      "text/plain": [
       "          Train  Test\n",
       "Sep 2003    528   132\n",
       "Sep 2023    528   132"
      ]
     },
     "execution_count": 76,
     "metadata": {},
     "output_type": "execute_result"
    }
   ],
   "source": [
    "\n",
    "pd.DataFrame([[int(len(gtp_tt[i][0])/len(cl_names)),int(len(gtp_tt[i][1])/len(cl_names))] for i in [0,1]],\n",
    "            columns=['Train', 'Test'],\n",
    "            index=periods)"
   ]
  },
  {
   "cell_type": "markdown",
   "id": "e9a80a95-3e05-4eac-ad47-e8514567f162",
   "metadata": {
    "jp-MarkdownHeadingCollapsed": true
   },
   "source": [
    "#### Check the data"
   ]
  },
  {
   "cell_type": "code",
   "execution_count": 29,
   "id": "8dc00480-3128-4219-9b84-d8c9a9fb5a33",
   "metadata": {},
   "outputs": [
    {
     "name": "stdout",
     "output_type": "stream",
     "text": [
      "        nbart_red  nbart_blue  nbart_green  nbart_nir  nbart_swir_1  \\\n",
      "226508      438.5       356.0        497.5      274.5         115.5   \n",
      "215274      558.0       294.0        472.5     1202.5        1480.5   \n",
      "284627      984.0       663.0        922.5     2502.0        2180.5   \n",
      "257298     1029.5       662.0       1052.0     2535.0        2179.0   \n",
      "280270      403.5       333.5        522.0      271.0         128.5   \n",
      "\n",
      "        nbart_swir_2      NDVI       NBR      NDWI  \n",
      "226508         131.5 -0.253335  0.307808  0.319090  \n",
      "215274         700.5  0.383419  0.264933 -0.455011  \n",
      "284627        1494.5  0.437696  0.251244 -0.466501  \n",
      "257298        1453.0  0.422335  0.271331 -0.413486  \n",
      "280270          89.5 -0.182358  0.504091  0.312615  \n",
      "        class_num\n",
      "226508          1\n",
      "215274          5\n",
      "284627          2\n",
      "257298          2\n",
      "280270          1\n",
      "        nbart_red  nbart_blue  nbart_green  nbart_nir  nbart_swir_1  \\\n",
      "157209      480.0       463.0        573.0      216.0          68.5   \n",
      "138123      579.0       436.5        523.5     1298.5        1564.0   \n",
      "289392      786.0       667.0        793.0     1933.0        1403.5   \n",
      "293204     1510.0      1136.0       1335.0     2413.5        2297.0   \n",
      "199150      443.0       483.0        586.5      298.5         135.5   \n",
      "\n",
      "        nbart_swir_2      NDVI       NBR      NDWI  \n",
      "157209          46.0 -0.394471  0.681369  0.465222  \n",
      "138123         908.0  0.381948  0.174939 -0.425276  \n",
      "289392        1027.0  0.422807  0.306661 -0.418781  \n",
      "293204        1926.0  0.230185  0.112288 -0.287724  \n",
      "199150          91.0 -0.242156  0.617707  0.366237  \n",
      "        class_num\n",
      "157209          1\n",
      "138123          5\n",
      "289392          2\n",
      "293204          2\n",
      "199150          1\n"
     ]
    }
   ],
   "source": [
    "for i in [0,1]:\n",
    "    print(gtp_tt[i][0][:5])\n",
    "    print(gtp_tt[i][2][:5])"
   ]
  },
  {
   "cell_type": "markdown",
   "id": "f3638e03-dbc2-48a7-8422-97420d8c7e21",
   "metadata": {},
   "source": [
    "#### Basic RF"
   ]
  },
  {
   "cell_type": "code",
   "execution_count": 77,
   "id": "cd18d58f-f460-4da5-b7d6-18df3950e066",
   "metadata": {},
   "outputs": [
    {
     "name": "stdout",
     "output_type": "stream",
     "text": [
      "Sep 2003\n",
      "============\n",
      "Accuracy = 0.978401727861771\n",
      "\n",
      "Precision and Recall\n",
      "             Precision    Recall\n",
      "No Data       1.000000  1.000000\n",
      "Water         1.000000  1.000000\n",
      "Developed     0.977099  0.969697\n",
      "Green Grass   0.985075  1.000000\n",
      "Brown Grass   0.968992  0.946970\n",
      "Swamp         0.946970  0.946970\n",
      "Wooded        0.970149  0.984848\n",
      "\n",
      "Feature Importance\n",
      "              Importance\n",
      "nbart_red       0.070916\n",
      "nbart_blue      0.107936\n",
      "nbart_green     0.133722\n",
      "nbart_nir       0.111615\n",
      "nbart_swir_1    0.150310\n",
      "nbart_swir_2    0.104648\n",
      "NDVI            0.109310\n",
      "NBR             0.062544\n",
      "NDWI            0.149000\n",
      "\n",
      "Confusion matrix\n",
      "             No Data  Water  Developed  Green Grass  Brown Grass  Swamp  \\\n",
      "No Data          133      0          0            0            0      0   \n",
      "Water              0    133          0            0            0      0   \n",
      "Developed          0      0        128            0            1      3   \n",
      "Green Grass        0      0          0          132            0      0   \n",
      "Brown Grass        0      0          3            2          125      2   \n",
      "Swamp              0      0          0            0            3    125   \n",
      "Wooded             0      0          0            0            0      2   \n",
      "\n",
      "             Wooded  \n",
      "No Data           0  \n",
      "Water             0  \n",
      "Developed         0  \n",
      "Green Grass       0  \n",
      "Brown Grass       0  \n",
      "Swamp             4  \n",
      "Wooded          130  \n",
      "\n",
      "Sep 2023\n",
      "============\n",
      "Accuracy = 0.9881209503239741\n",
      "\n",
      "Precision and Recall\n",
      "             Precision    Recall\n",
      "No Data       1.000000  1.000000\n",
      "Water         1.000000  1.000000\n",
      "Developed     0.992248  0.969697\n",
      "Green Grass   0.984848  0.984848\n",
      "Brown Grass   0.977099  0.969697\n",
      "Swamp         0.970370  0.992424\n",
      "Wooded        0.992481  1.000000\n",
      "\n",
      "Feature Importance\n",
      "              Importance\n",
      "nbart_red       0.058419\n",
      "nbart_blue      0.130267\n",
      "nbart_green     0.126723\n",
      "nbart_nir       0.112293\n",
      "nbart_swir_1    0.196328\n",
      "nbart_swir_2    0.100268\n",
      "NDVI            0.104632\n",
      "NBR             0.058853\n",
      "NDWI            0.112218\n",
      "\n",
      "Confusion matrix\n",
      "             No Data  Water  Developed  Green Grass  Brown Grass  Swamp  \\\n",
      "No Data          133      0          0            0            0      0   \n",
      "Water              0    133          0            0            0      0   \n",
      "Developed          0      0        128            2            1      1   \n",
      "Green Grass        0      0          0          130            2      0   \n",
      "Brown Grass        0      0          1            0          128      3   \n",
      "Swamp              0      0          0            0            0    131   \n",
      "Wooded             0      0          0            0            0      0   \n",
      "\n",
      "             Wooded  \n",
      "No Data           0  \n",
      "Water             0  \n",
      "Developed         0  \n",
      "Green Grass       0  \n",
      "Brown Grass       0  \n",
      "Swamp             1  \n",
      "Wooded          132  \n",
      "\n",
      "CPU times: total: 2.5 s\n",
      "Wall time: 2.69 s\n"
     ]
    }
   ],
   "source": [
    "%%time\n",
    "\n",
    "# List to hold the trained classifiers\n",
    "rfs = []\n",
    "# List to hold the accuracies\n",
    "acc = []\n",
    "# List to hold the precision and recall data frames\n",
    "pre_rec = []\n",
    "# List to hold the confusion matrix data frames\n",
    "cm = []\n",
    "# List to hold the feature scores\n",
    "feat_scores = []\n",
    "\n",
    "\n",
    "for i in [0,1]:\n",
    "    # Create and fit the RF classifier\n",
    "    rf = RandomForestClassifier(random_state=random_state)\n",
    "    rf.fit(gtp_tt[i][0], gtp_tt[i][2])\n",
    "\n",
    "    # Append model to list\n",
    "    rfs.append(rf)\n",
    "    \n",
    "    # Predict\n",
    "    y_pred = rf.predict(gtp_tt[i][1])\n",
    "\n",
    "    # Assess accuracy, precision, recall\n",
    "    acc.append(accuracy_score(gtp_tt[i][3], y_pred))\n",
    "    pre_rec.append(pd.DataFrame({'Precision': precision_score(gtp_tt[i][3], y_pred, average=None),\n",
    "                               'Recall': recall_score(gtp_tt[i][3], y_pred, average=None)\n",
    "                              },\n",
    "                               index=cl_names)\n",
    "                  )\n",
    "    \n",
    "    print(periods[i])\n",
    "    print('============')\n",
    "    print('Accuracy =', acc[i])\n",
    "    print()\n",
    "    print('Precision and Recall')\n",
    "    print(pre_rec[i])\n",
    "    print()\n",
    "    \n",
    "    # List the importance of features\n",
    "    print('Feature Importance')\n",
    "    feat_scores.append(pd.DataFrame({'Importance':rf.feature_importances_}, index=gtp_tt[i][0].columns))\n",
    "    print(feat_scores[i])\n",
    "    print()\n",
    "\n",
    "    # Confusion matrix\n",
    "    cm.append(pd.DataFrame(confusion_matrix(gtp_tt[i][3], y_pred),\n",
    "                           columns = cl_names,\n",
    "                                  index=cl_names\n",
    "                          )\n",
    "             )\n",
    "    print('Confusion matrix')\n",
    "    print(cm[i])\n",
    "    print()"
   ]
  },
  {
   "cell_type": "code",
   "execution_count": 78,
   "id": "9c287f8b-2e1b-448e-9582-a3a160cc219e",
   "metadata": {},
   "outputs": [
    {
     "data": {
      "text/html": [
       "<div>\n",
       "<style scoped>\n",
       "    .dataframe tbody tr th:only-of-type {\n",
       "        vertical-align: middle;\n",
       "    }\n",
       "\n",
       "    .dataframe tbody tr th {\n",
       "        vertical-align: top;\n",
       "    }\n",
       "\n",
       "    .dataframe thead th {\n",
       "        text-align: right;\n",
       "    }\n",
       "</style>\n",
       "<table border=\"1\" class=\"dataframe\">\n",
       "  <thead>\n",
       "    <tr style=\"text-align: right;\">\n",
       "      <th></th>\n",
       "      <th>No Data</th>\n",
       "      <th>Water</th>\n",
       "      <th>Developed</th>\n",
       "      <th>Green Grass</th>\n",
       "      <th>Brown Grass</th>\n",
       "      <th>Swamp</th>\n",
       "      <th>Wooded</th>\n",
       "    </tr>\n",
       "  </thead>\n",
       "  <tbody>\n",
       "    <tr>\n",
       "      <th>No Data</th>\n",
       "      <td>133</td>\n",
       "      <td>0</td>\n",
       "      <td>0</td>\n",
       "      <td>0</td>\n",
       "      <td>0</td>\n",
       "      <td>0</td>\n",
       "      <td>0</td>\n",
       "    </tr>\n",
       "    <tr>\n",
       "      <th>Water</th>\n",
       "      <td>0</td>\n",
       "      <td>133</td>\n",
       "      <td>0</td>\n",
       "      <td>0</td>\n",
       "      <td>0</td>\n",
       "      <td>0</td>\n",
       "      <td>0</td>\n",
       "    </tr>\n",
       "    <tr>\n",
       "      <th>Developed</th>\n",
       "      <td>0</td>\n",
       "      <td>0</td>\n",
       "      <td>128</td>\n",
       "      <td>0</td>\n",
       "      <td>1</td>\n",
       "      <td>3</td>\n",
       "      <td>0</td>\n",
       "    </tr>\n",
       "    <tr>\n",
       "      <th>Green Grass</th>\n",
       "      <td>0</td>\n",
       "      <td>0</td>\n",
       "      <td>0</td>\n",
       "      <td>132</td>\n",
       "      <td>0</td>\n",
       "      <td>0</td>\n",
       "      <td>0</td>\n",
       "    </tr>\n",
       "    <tr>\n",
       "      <th>Brown Grass</th>\n",
       "      <td>0</td>\n",
       "      <td>0</td>\n",
       "      <td>3</td>\n",
       "      <td>2</td>\n",
       "      <td>125</td>\n",
       "      <td>2</td>\n",
       "      <td>0</td>\n",
       "    </tr>\n",
       "    <tr>\n",
       "      <th>Swamp</th>\n",
       "      <td>0</td>\n",
       "      <td>0</td>\n",
       "      <td>0</td>\n",
       "      <td>0</td>\n",
       "      <td>3</td>\n",
       "      <td>125</td>\n",
       "      <td>4</td>\n",
       "    </tr>\n",
       "    <tr>\n",
       "      <th>Wooded</th>\n",
       "      <td>0</td>\n",
       "      <td>0</td>\n",
       "      <td>0</td>\n",
       "      <td>0</td>\n",
       "      <td>0</td>\n",
       "      <td>2</td>\n",
       "      <td>130</td>\n",
       "    </tr>\n",
       "  </tbody>\n",
       "</table>\n",
       "</div>"
      ],
      "text/plain": [
       "             No Data  Water  Developed  Green Grass  Brown Grass  Swamp  \\\n",
       "No Data          133      0          0            0            0      0   \n",
       "Water              0    133          0            0            0      0   \n",
       "Developed          0      0        128            0            1      3   \n",
       "Green Grass        0      0          0          132            0      0   \n",
       "Brown Grass        0      0          3            2          125      2   \n",
       "Swamp              0      0          0            0            3    125   \n",
       "Wooded             0      0          0            0            0      2   \n",
       "\n",
       "             Wooded  \n",
       "No Data           0  \n",
       "Water             0  \n",
       "Developed         0  \n",
       "Green Grass       0  \n",
       "Brown Grass       0  \n",
       "Swamp             4  \n",
       "Wooded          130  "
      ]
     },
     "execution_count": 78,
     "metadata": {},
     "output_type": "execute_result"
    }
   ],
   "source": [
    "# For copying to the report\n",
    "cm[0]\n",
    "# cm[1]"
   ]
  },
  {
   "cell_type": "markdown",
   "id": "433a196b-da3b-4d12-9dae-3d4a659253d8",
   "metadata": {
    "jp-MarkdownHeadingCollapsed": true
   },
   "source": [
    "#### RF With Hyperparameter Tuning\n",
    "*Warning*: This will take a long time to complete."
   ]
  },
  {
   "cell_type": "code",
   "execution_count": 488,
   "id": "3f5ae187-bdb2-4fb3-91b3-495e81dbeec6",
   "metadata": {
    "collapsed": true,
    "jupyter": {
     "outputs_hidden": true
    }
   },
   "outputs": [
    {
     "name": "stdout",
     "output_type": "stream",
     "text": [
      "Jul 2015\n",
      "============\n",
      "Accuracy: 0.938006723353767\n",
      "\n",
      "Feature Importance\n",
      "nbart_swir_2    0.245012\n",
      "nbart_red       0.238164\n",
      "nbart_swir_1    0.156639\n",
      "nbart_green     0.133209\n",
      "NDVI            0.118846\n",
      "nbart_blue      0.075049\n",
      "nbart_nir       0.033079\n",
      "dtype: float64\n",
      "\n",
      "Confusion matrix\n",
      "[[  88    4   79    3]\n",
      " [   0  304  244    2]\n",
      " [  10   84 2573  133]\n",
      " [   0    0   68 6522]]\n",
      "\n"
     ]
    },
    {
     "ename": "KeyboardInterrupt",
     "evalue": "",
     "output_type": "error",
     "traceback": [
      "\u001b[1;31m---------------------------------------------------------------------------\u001b[0m",
      "\u001b[1;31mKeyboardInterrupt\u001b[0m                         Traceback (most recent call last)",
      "Cell \u001b[1;32mIn[488], line 22\u001b[0m\n\u001b[0;32m     13\u001b[0m rand_search \u001b[38;5;241m=\u001b[39m RandomizedSearchCV(rf, \n\u001b[0;32m     14\u001b[0m                                  param_distributions \u001b[38;5;241m=\u001b[39m param_dist, \n\u001b[0;32m     15\u001b[0m                                  n_iter\u001b[38;5;241m=\u001b[39m\u001b[38;5;241m5\u001b[39m, \n\u001b[0;32m     16\u001b[0m                                  cv\u001b[38;5;241m=\u001b[39m\u001b[38;5;241m5\u001b[39m)\n\u001b[0;32m     18\u001b[0m \u001b[38;5;66;03m# Split the data into training and test sets\u001b[39;00m\n\u001b[0;32m     19\u001b[0m \u001b[38;5;66;03m# X_train, X_test, y_train, y_test = train_test_split(X[i], y[i], test_size=0.2, random_state=random_state)\u001b[39;00m\n\u001b[0;32m     20\u001b[0m \n\u001b[0;32m     21\u001b[0m \u001b[38;5;66;03m# Fit the random_search to the data\u001b[39;00m\n\u001b[1;32m---> 22\u001b[0m \u001b[43mrand_search\u001b[49m\u001b[38;5;241;43m.\u001b[39;49m\u001b[43mfit\u001b[49m\u001b[43m(\u001b[49m\u001b[43mgtp_tt\u001b[49m\u001b[43m[\u001b[49m\u001b[43mi\u001b[49m\u001b[43m]\u001b[49m\u001b[43m[\u001b[49m\u001b[38;5;241;43m0\u001b[39;49m\u001b[43m]\u001b[49m\u001b[43m,\u001b[49m\u001b[43m \u001b[49m\u001b[43mgtp_tt\u001b[49m\u001b[43m[\u001b[49m\u001b[43mi\u001b[49m\u001b[43m]\u001b[49m\u001b[43m[\u001b[49m\u001b[38;5;241;43m2\u001b[39;49m\u001b[43m]\u001b[49m\u001b[43m)\u001b[49m\n\u001b[0;32m     24\u001b[0m \u001b[38;5;66;03m# Store the best model\u001b[39;00m\n\u001b[0;32m     25\u001b[0m best_rf \u001b[38;5;241m=\u001b[39m rand_search\u001b[38;5;241m.\u001b[39mbest_estimator_\n",
      "File \u001b[1;32m~\\AppData\\Local\\Programs\\Python\\Python312\\Lib\\site-packages\\sklearn\\base.py:1152\u001b[0m, in \u001b[0;36m_fit_context.<locals>.decorator.<locals>.wrapper\u001b[1;34m(estimator, *args, **kwargs)\u001b[0m\n\u001b[0;32m   1145\u001b[0m     estimator\u001b[38;5;241m.\u001b[39m_validate_params()\n\u001b[0;32m   1147\u001b[0m \u001b[38;5;28;01mwith\u001b[39;00m config_context(\n\u001b[0;32m   1148\u001b[0m     skip_parameter_validation\u001b[38;5;241m=\u001b[39m(\n\u001b[0;32m   1149\u001b[0m         prefer_skip_nested_validation \u001b[38;5;129;01mor\u001b[39;00m global_skip_validation\n\u001b[0;32m   1150\u001b[0m     )\n\u001b[0;32m   1151\u001b[0m ):\n\u001b[1;32m-> 1152\u001b[0m     \u001b[38;5;28;01mreturn\u001b[39;00m \u001b[43mfit_method\u001b[49m\u001b[43m(\u001b[49m\u001b[43mestimator\u001b[49m\u001b[43m,\u001b[49m\u001b[43m \u001b[49m\u001b[38;5;241;43m*\u001b[39;49m\u001b[43margs\u001b[49m\u001b[43m,\u001b[49m\u001b[43m \u001b[49m\u001b[38;5;241;43m*\u001b[39;49m\u001b[38;5;241;43m*\u001b[39;49m\u001b[43mkwargs\u001b[49m\u001b[43m)\u001b[49m\n",
      "File \u001b[1;32m~\\AppData\\Local\\Programs\\Python\\Python312\\Lib\\site-packages\\sklearn\\model_selection\\_search.py:898\u001b[0m, in \u001b[0;36mBaseSearchCV.fit\u001b[1;34m(self, X, y, groups, **fit_params)\u001b[0m\n\u001b[0;32m    892\u001b[0m     results \u001b[38;5;241m=\u001b[39m \u001b[38;5;28mself\u001b[39m\u001b[38;5;241m.\u001b[39m_format_results(\n\u001b[0;32m    893\u001b[0m         all_candidate_params, n_splits, all_out, all_more_results\n\u001b[0;32m    894\u001b[0m     )\n\u001b[0;32m    896\u001b[0m     \u001b[38;5;28;01mreturn\u001b[39;00m results\n\u001b[1;32m--> 898\u001b[0m \u001b[38;5;28;43mself\u001b[39;49m\u001b[38;5;241;43m.\u001b[39;49m\u001b[43m_run_search\u001b[49m\u001b[43m(\u001b[49m\u001b[43mevaluate_candidates\u001b[49m\u001b[43m)\u001b[49m\n\u001b[0;32m    900\u001b[0m \u001b[38;5;66;03m# multimetric is determined here because in the case of a callable\u001b[39;00m\n\u001b[0;32m    901\u001b[0m \u001b[38;5;66;03m# self.scoring the return type is only known after calling\u001b[39;00m\n\u001b[0;32m    902\u001b[0m first_test_score \u001b[38;5;241m=\u001b[39m all_out[\u001b[38;5;241m0\u001b[39m][\u001b[38;5;124m\"\u001b[39m\u001b[38;5;124mtest_scores\u001b[39m\u001b[38;5;124m\"\u001b[39m]\n",
      "File \u001b[1;32m~\\AppData\\Local\\Programs\\Python\\Python312\\Lib\\site-packages\\sklearn\\model_selection\\_search.py:1809\u001b[0m, in \u001b[0;36mRandomizedSearchCV._run_search\u001b[1;34m(self, evaluate_candidates)\u001b[0m\n\u001b[0;32m   1807\u001b[0m \u001b[38;5;28;01mdef\u001b[39;00m \u001b[38;5;21m_run_search\u001b[39m(\u001b[38;5;28mself\u001b[39m, evaluate_candidates):\n\u001b[0;32m   1808\u001b[0m \u001b[38;5;250m    \u001b[39m\u001b[38;5;124;03m\"\"\"Search n_iter candidates from param_distributions\"\"\"\u001b[39;00m\n\u001b[1;32m-> 1809\u001b[0m     \u001b[43mevaluate_candidates\u001b[49m\u001b[43m(\u001b[49m\n\u001b[0;32m   1810\u001b[0m \u001b[43m        \u001b[49m\u001b[43mParameterSampler\u001b[49m\u001b[43m(\u001b[49m\n\u001b[0;32m   1811\u001b[0m \u001b[43m            \u001b[49m\u001b[38;5;28;43mself\u001b[39;49m\u001b[38;5;241;43m.\u001b[39;49m\u001b[43mparam_distributions\u001b[49m\u001b[43m,\u001b[49m\u001b[43m \u001b[49m\u001b[38;5;28;43mself\u001b[39;49m\u001b[38;5;241;43m.\u001b[39;49m\u001b[43mn_iter\u001b[49m\u001b[43m,\u001b[49m\u001b[43m \u001b[49m\u001b[43mrandom_state\u001b[49m\u001b[38;5;241;43m=\u001b[39;49m\u001b[38;5;28;43mself\u001b[39;49m\u001b[38;5;241;43m.\u001b[39;49m\u001b[43mrandom_state\u001b[49m\n\u001b[0;32m   1812\u001b[0m \u001b[43m        \u001b[49m\u001b[43m)\u001b[49m\n\u001b[0;32m   1813\u001b[0m \u001b[43m    \u001b[49m\u001b[43m)\u001b[49m\n",
      "File \u001b[1;32m~\\AppData\\Local\\Programs\\Python\\Python312\\Lib\\site-packages\\sklearn\\model_selection\\_search.py:845\u001b[0m, in \u001b[0;36mBaseSearchCV.fit.<locals>.evaluate_candidates\u001b[1;34m(candidate_params, cv, more_results)\u001b[0m\n\u001b[0;32m    837\u001b[0m \u001b[38;5;28;01mif\u001b[39;00m \u001b[38;5;28mself\u001b[39m\u001b[38;5;241m.\u001b[39mverbose \u001b[38;5;241m>\u001b[39m \u001b[38;5;241m0\u001b[39m:\n\u001b[0;32m    838\u001b[0m     \u001b[38;5;28mprint\u001b[39m(\n\u001b[0;32m    839\u001b[0m         \u001b[38;5;124m\"\u001b[39m\u001b[38;5;124mFitting \u001b[39m\u001b[38;5;132;01m{0}\u001b[39;00m\u001b[38;5;124m folds for each of \u001b[39m\u001b[38;5;132;01m{1}\u001b[39;00m\u001b[38;5;124m candidates,\u001b[39m\u001b[38;5;124m\"\u001b[39m\n\u001b[0;32m    840\u001b[0m         \u001b[38;5;124m\"\u001b[39m\u001b[38;5;124m totalling \u001b[39m\u001b[38;5;132;01m{2}\u001b[39;00m\u001b[38;5;124m fits\u001b[39m\u001b[38;5;124m\"\u001b[39m\u001b[38;5;241m.\u001b[39mformat(\n\u001b[0;32m    841\u001b[0m             n_splits, n_candidates, n_candidates \u001b[38;5;241m*\u001b[39m n_splits\n\u001b[0;32m    842\u001b[0m         )\n\u001b[0;32m    843\u001b[0m     )\n\u001b[1;32m--> 845\u001b[0m out \u001b[38;5;241m=\u001b[39m \u001b[43mparallel\u001b[49m\u001b[43m(\u001b[49m\n\u001b[0;32m    846\u001b[0m \u001b[43m    \u001b[49m\u001b[43mdelayed\u001b[49m\u001b[43m(\u001b[49m\u001b[43m_fit_and_score\u001b[49m\u001b[43m)\u001b[49m\u001b[43m(\u001b[49m\n\u001b[0;32m    847\u001b[0m \u001b[43m        \u001b[49m\u001b[43mclone\u001b[49m\u001b[43m(\u001b[49m\u001b[43mbase_estimator\u001b[49m\u001b[43m)\u001b[49m\u001b[43m,\u001b[49m\n\u001b[0;32m    848\u001b[0m \u001b[43m        \u001b[49m\u001b[43mX\u001b[49m\u001b[43m,\u001b[49m\n\u001b[0;32m    849\u001b[0m \u001b[43m        \u001b[49m\u001b[43my\u001b[49m\u001b[43m,\u001b[49m\n\u001b[0;32m    850\u001b[0m \u001b[43m        \u001b[49m\u001b[43mtrain\u001b[49m\u001b[38;5;241;43m=\u001b[39;49m\u001b[43mtrain\u001b[49m\u001b[43m,\u001b[49m\n\u001b[0;32m    851\u001b[0m \u001b[43m        \u001b[49m\u001b[43mtest\u001b[49m\u001b[38;5;241;43m=\u001b[39;49m\u001b[43mtest\u001b[49m\u001b[43m,\u001b[49m\n\u001b[0;32m    852\u001b[0m \u001b[43m        \u001b[49m\u001b[43mparameters\u001b[49m\u001b[38;5;241;43m=\u001b[39;49m\u001b[43mparameters\u001b[49m\u001b[43m,\u001b[49m\n\u001b[0;32m    853\u001b[0m \u001b[43m        \u001b[49m\u001b[43msplit_progress\u001b[49m\u001b[38;5;241;43m=\u001b[39;49m\u001b[43m(\u001b[49m\u001b[43msplit_idx\u001b[49m\u001b[43m,\u001b[49m\u001b[43m \u001b[49m\u001b[43mn_splits\u001b[49m\u001b[43m)\u001b[49m\u001b[43m,\u001b[49m\n\u001b[0;32m    854\u001b[0m \u001b[43m        \u001b[49m\u001b[43mcandidate_progress\u001b[49m\u001b[38;5;241;43m=\u001b[39;49m\u001b[43m(\u001b[49m\u001b[43mcand_idx\u001b[49m\u001b[43m,\u001b[49m\u001b[43m \u001b[49m\u001b[43mn_candidates\u001b[49m\u001b[43m)\u001b[49m\u001b[43m,\u001b[49m\n\u001b[0;32m    855\u001b[0m \u001b[43m        \u001b[49m\u001b[38;5;241;43m*\u001b[39;49m\u001b[38;5;241;43m*\u001b[39;49m\u001b[43mfit_and_score_kwargs\u001b[49m\u001b[43m,\u001b[49m\n\u001b[0;32m    856\u001b[0m \u001b[43m    \u001b[49m\u001b[43m)\u001b[49m\n\u001b[0;32m    857\u001b[0m \u001b[43m    \u001b[49m\u001b[38;5;28;43;01mfor\u001b[39;49;00m\u001b[43m \u001b[49m\u001b[43m(\u001b[49m\u001b[43mcand_idx\u001b[49m\u001b[43m,\u001b[49m\u001b[43m \u001b[49m\u001b[43mparameters\u001b[49m\u001b[43m)\u001b[49m\u001b[43m,\u001b[49m\u001b[43m \u001b[49m\u001b[43m(\u001b[49m\u001b[43msplit_idx\u001b[49m\u001b[43m,\u001b[49m\u001b[43m \u001b[49m\u001b[43m(\u001b[49m\u001b[43mtrain\u001b[49m\u001b[43m,\u001b[49m\u001b[43m \u001b[49m\u001b[43mtest\u001b[49m\u001b[43m)\u001b[49m\u001b[43m)\u001b[49m\u001b[43m \u001b[49m\u001b[38;5;129;43;01min\u001b[39;49;00m\u001b[43m \u001b[49m\u001b[43mproduct\u001b[49m\u001b[43m(\u001b[49m\n\u001b[0;32m    858\u001b[0m \u001b[43m        \u001b[49m\u001b[38;5;28;43menumerate\u001b[39;49m\u001b[43m(\u001b[49m\u001b[43mcandidate_params\u001b[49m\u001b[43m)\u001b[49m\u001b[43m,\u001b[49m\u001b[43m \u001b[49m\u001b[38;5;28;43menumerate\u001b[39;49m\u001b[43m(\u001b[49m\u001b[43mcv\u001b[49m\u001b[38;5;241;43m.\u001b[39;49m\u001b[43msplit\u001b[49m\u001b[43m(\u001b[49m\u001b[43mX\u001b[49m\u001b[43m,\u001b[49m\u001b[43m \u001b[49m\u001b[43my\u001b[49m\u001b[43m,\u001b[49m\u001b[43m \u001b[49m\u001b[43mgroups\u001b[49m\u001b[43m)\u001b[49m\u001b[43m)\u001b[49m\n\u001b[0;32m    859\u001b[0m \u001b[43m    \u001b[49m\u001b[43m)\u001b[49m\n\u001b[0;32m    860\u001b[0m \u001b[43m\u001b[49m\u001b[43m)\u001b[49m\n\u001b[0;32m    862\u001b[0m \u001b[38;5;28;01mif\u001b[39;00m \u001b[38;5;28mlen\u001b[39m(out) \u001b[38;5;241m<\u001b[39m \u001b[38;5;241m1\u001b[39m:\n\u001b[0;32m    863\u001b[0m     \u001b[38;5;28;01mraise\u001b[39;00m \u001b[38;5;167;01mValueError\u001b[39;00m(\n\u001b[0;32m    864\u001b[0m         \u001b[38;5;124m\"\u001b[39m\u001b[38;5;124mNo fits were performed. \u001b[39m\u001b[38;5;124m\"\u001b[39m\n\u001b[0;32m    865\u001b[0m         \u001b[38;5;124m\"\u001b[39m\u001b[38;5;124mWas the CV iterator empty? \u001b[39m\u001b[38;5;124m\"\u001b[39m\n\u001b[0;32m    866\u001b[0m         \u001b[38;5;124m\"\u001b[39m\u001b[38;5;124mWere there no candidates?\u001b[39m\u001b[38;5;124m\"\u001b[39m\n\u001b[0;32m    867\u001b[0m     )\n",
      "File \u001b[1;32m~\\AppData\\Local\\Programs\\Python\\Python312\\Lib\\site-packages\\sklearn\\utils\\parallel.py:65\u001b[0m, in \u001b[0;36mParallel.__call__\u001b[1;34m(self, iterable)\u001b[0m\n\u001b[0;32m     60\u001b[0m config \u001b[38;5;241m=\u001b[39m get_config()\n\u001b[0;32m     61\u001b[0m iterable_with_config \u001b[38;5;241m=\u001b[39m (\n\u001b[0;32m     62\u001b[0m     (_with_config(delayed_func, config), args, kwargs)\n\u001b[0;32m     63\u001b[0m     \u001b[38;5;28;01mfor\u001b[39;00m delayed_func, args, kwargs \u001b[38;5;129;01min\u001b[39;00m iterable\n\u001b[0;32m     64\u001b[0m )\n\u001b[1;32m---> 65\u001b[0m \u001b[38;5;28;01mreturn\u001b[39;00m \u001b[38;5;28;43msuper\u001b[39;49m\u001b[43m(\u001b[49m\u001b[43m)\u001b[49m\u001b[38;5;241;43m.\u001b[39;49m\u001b[38;5;21;43m__call__\u001b[39;49m\u001b[43m(\u001b[49m\u001b[43miterable_with_config\u001b[49m\u001b[43m)\u001b[49m\n",
      "File \u001b[1;32m~\\AppData\\Local\\Programs\\Python\\Python312\\Lib\\site-packages\\joblib\\parallel.py:1863\u001b[0m, in \u001b[0;36mParallel.__call__\u001b[1;34m(self, iterable)\u001b[0m\n\u001b[0;32m   1861\u001b[0m     output \u001b[38;5;241m=\u001b[39m \u001b[38;5;28mself\u001b[39m\u001b[38;5;241m.\u001b[39m_get_sequential_output(iterable)\n\u001b[0;32m   1862\u001b[0m     \u001b[38;5;28mnext\u001b[39m(output)\n\u001b[1;32m-> 1863\u001b[0m     \u001b[38;5;28;01mreturn\u001b[39;00m output \u001b[38;5;28;01mif\u001b[39;00m \u001b[38;5;28mself\u001b[39m\u001b[38;5;241m.\u001b[39mreturn_generator \u001b[38;5;28;01melse\u001b[39;00m \u001b[38;5;28;43mlist\u001b[39;49m\u001b[43m(\u001b[49m\u001b[43moutput\u001b[49m\u001b[43m)\u001b[49m\n\u001b[0;32m   1865\u001b[0m \u001b[38;5;66;03m# Let's create an ID that uniquely identifies the current call. If the\u001b[39;00m\n\u001b[0;32m   1866\u001b[0m \u001b[38;5;66;03m# call is interrupted early and that the same instance is immediately\u001b[39;00m\n\u001b[0;32m   1867\u001b[0m \u001b[38;5;66;03m# re-used, this id will be used to prevent workers that were\u001b[39;00m\n\u001b[0;32m   1868\u001b[0m \u001b[38;5;66;03m# concurrently finalizing a task from the previous call to run the\u001b[39;00m\n\u001b[0;32m   1869\u001b[0m \u001b[38;5;66;03m# callback.\u001b[39;00m\n\u001b[0;32m   1870\u001b[0m \u001b[38;5;28;01mwith\u001b[39;00m \u001b[38;5;28mself\u001b[39m\u001b[38;5;241m.\u001b[39m_lock:\n",
      "File \u001b[1;32m~\\AppData\\Local\\Programs\\Python\\Python312\\Lib\\site-packages\\joblib\\parallel.py:1792\u001b[0m, in \u001b[0;36mParallel._get_sequential_output\u001b[1;34m(self, iterable)\u001b[0m\n\u001b[0;32m   1790\u001b[0m \u001b[38;5;28mself\u001b[39m\u001b[38;5;241m.\u001b[39mn_dispatched_batches \u001b[38;5;241m+\u001b[39m\u001b[38;5;241m=\u001b[39m \u001b[38;5;241m1\u001b[39m\n\u001b[0;32m   1791\u001b[0m \u001b[38;5;28mself\u001b[39m\u001b[38;5;241m.\u001b[39mn_dispatched_tasks \u001b[38;5;241m+\u001b[39m\u001b[38;5;241m=\u001b[39m \u001b[38;5;241m1\u001b[39m\n\u001b[1;32m-> 1792\u001b[0m res \u001b[38;5;241m=\u001b[39m \u001b[43mfunc\u001b[49m\u001b[43m(\u001b[49m\u001b[38;5;241;43m*\u001b[39;49m\u001b[43margs\u001b[49m\u001b[43m,\u001b[49m\u001b[43m \u001b[49m\u001b[38;5;241;43m*\u001b[39;49m\u001b[38;5;241;43m*\u001b[39;49m\u001b[43mkwargs\u001b[49m\u001b[43m)\u001b[49m\n\u001b[0;32m   1793\u001b[0m \u001b[38;5;28mself\u001b[39m\u001b[38;5;241m.\u001b[39mn_completed_tasks \u001b[38;5;241m+\u001b[39m\u001b[38;5;241m=\u001b[39m \u001b[38;5;241m1\u001b[39m\n\u001b[0;32m   1794\u001b[0m \u001b[38;5;28mself\u001b[39m\u001b[38;5;241m.\u001b[39mprint_progress()\n",
      "File \u001b[1;32m~\\AppData\\Local\\Programs\\Python\\Python312\\Lib\\site-packages\\sklearn\\utils\\parallel.py:127\u001b[0m, in \u001b[0;36m_FuncWrapper.__call__\u001b[1;34m(self, *args, **kwargs)\u001b[0m\n\u001b[0;32m    125\u001b[0m     config \u001b[38;5;241m=\u001b[39m {}\n\u001b[0;32m    126\u001b[0m \u001b[38;5;28;01mwith\u001b[39;00m config_context(\u001b[38;5;241m*\u001b[39m\u001b[38;5;241m*\u001b[39mconfig):\n\u001b[1;32m--> 127\u001b[0m     \u001b[38;5;28;01mreturn\u001b[39;00m \u001b[38;5;28;43mself\u001b[39;49m\u001b[38;5;241;43m.\u001b[39;49m\u001b[43mfunction\u001b[49m\u001b[43m(\u001b[49m\u001b[38;5;241;43m*\u001b[39;49m\u001b[43margs\u001b[49m\u001b[43m,\u001b[49m\u001b[43m \u001b[49m\u001b[38;5;241;43m*\u001b[39;49m\u001b[38;5;241;43m*\u001b[39;49m\u001b[43mkwargs\u001b[49m\u001b[43m)\u001b[49m\n",
      "File \u001b[1;32m~\\AppData\\Local\\Programs\\Python\\Python312\\Lib\\site-packages\\sklearn\\model_selection\\_validation.py:729\u001b[0m, in \u001b[0;36m_fit_and_score\u001b[1;34m(estimator, X, y, scorer, train, test, verbose, parameters, fit_params, return_train_score, return_parameters, return_n_test_samples, return_times, return_estimator, split_progress, candidate_progress, error_score)\u001b[0m\n\u001b[0;32m    727\u001b[0m         estimator\u001b[38;5;241m.\u001b[39mfit(X_train, \u001b[38;5;241m*\u001b[39m\u001b[38;5;241m*\u001b[39mfit_params)\n\u001b[0;32m    728\u001b[0m     \u001b[38;5;28;01melse\u001b[39;00m:\n\u001b[1;32m--> 729\u001b[0m         \u001b[43mestimator\u001b[49m\u001b[38;5;241;43m.\u001b[39;49m\u001b[43mfit\u001b[49m\u001b[43m(\u001b[49m\u001b[43mX_train\u001b[49m\u001b[43m,\u001b[49m\u001b[43m \u001b[49m\u001b[43my_train\u001b[49m\u001b[43m,\u001b[49m\u001b[43m \u001b[49m\u001b[38;5;241;43m*\u001b[39;49m\u001b[38;5;241;43m*\u001b[39;49m\u001b[43mfit_params\u001b[49m\u001b[43m)\u001b[49m\n\u001b[0;32m    731\u001b[0m \u001b[38;5;28;01mexcept\u001b[39;00m \u001b[38;5;167;01mException\u001b[39;00m:\n\u001b[0;32m    732\u001b[0m     \u001b[38;5;66;03m# Note fit time as time until error\u001b[39;00m\n\u001b[0;32m    733\u001b[0m     fit_time \u001b[38;5;241m=\u001b[39m time\u001b[38;5;241m.\u001b[39mtime() \u001b[38;5;241m-\u001b[39m start_time\n",
      "File \u001b[1;32m~\\AppData\\Local\\Programs\\Python\\Python312\\Lib\\site-packages\\sklearn\\base.py:1152\u001b[0m, in \u001b[0;36m_fit_context.<locals>.decorator.<locals>.wrapper\u001b[1;34m(estimator, *args, **kwargs)\u001b[0m\n\u001b[0;32m   1145\u001b[0m     estimator\u001b[38;5;241m.\u001b[39m_validate_params()\n\u001b[0;32m   1147\u001b[0m \u001b[38;5;28;01mwith\u001b[39;00m config_context(\n\u001b[0;32m   1148\u001b[0m     skip_parameter_validation\u001b[38;5;241m=\u001b[39m(\n\u001b[0;32m   1149\u001b[0m         prefer_skip_nested_validation \u001b[38;5;129;01mor\u001b[39;00m global_skip_validation\n\u001b[0;32m   1150\u001b[0m     )\n\u001b[0;32m   1151\u001b[0m ):\n\u001b[1;32m-> 1152\u001b[0m     \u001b[38;5;28;01mreturn\u001b[39;00m \u001b[43mfit_method\u001b[49m\u001b[43m(\u001b[49m\u001b[43mestimator\u001b[49m\u001b[43m,\u001b[49m\u001b[43m \u001b[49m\u001b[38;5;241;43m*\u001b[39;49m\u001b[43margs\u001b[49m\u001b[43m,\u001b[49m\u001b[43m \u001b[49m\u001b[38;5;241;43m*\u001b[39;49m\u001b[38;5;241;43m*\u001b[39;49m\u001b[43mkwargs\u001b[49m\u001b[43m)\u001b[49m\n",
      "File \u001b[1;32m~\\AppData\\Local\\Programs\\Python\\Python312\\Lib\\site-packages\\sklearn\\ensemble\\_forest.py:456\u001b[0m, in \u001b[0;36mBaseForest.fit\u001b[1;34m(self, X, y, sample_weight)\u001b[0m\n\u001b[0;32m    445\u001b[0m trees \u001b[38;5;241m=\u001b[39m [\n\u001b[0;32m    446\u001b[0m     \u001b[38;5;28mself\u001b[39m\u001b[38;5;241m.\u001b[39m_make_estimator(append\u001b[38;5;241m=\u001b[39m\u001b[38;5;28;01mFalse\u001b[39;00m, random_state\u001b[38;5;241m=\u001b[39mrandom_state)\n\u001b[0;32m    447\u001b[0m     \u001b[38;5;28;01mfor\u001b[39;00m i \u001b[38;5;129;01min\u001b[39;00m \u001b[38;5;28mrange\u001b[39m(n_more_estimators)\n\u001b[0;32m    448\u001b[0m ]\n\u001b[0;32m    450\u001b[0m \u001b[38;5;66;03m# Parallel loop: we prefer the threading backend as the Cython code\u001b[39;00m\n\u001b[0;32m    451\u001b[0m \u001b[38;5;66;03m# for fitting the trees is internally releasing the Python GIL\u001b[39;00m\n\u001b[0;32m    452\u001b[0m \u001b[38;5;66;03m# making threading more efficient than multiprocessing in\u001b[39;00m\n\u001b[0;32m    453\u001b[0m \u001b[38;5;66;03m# that case. However, for joblib 0.12+ we respect any\u001b[39;00m\n\u001b[0;32m    454\u001b[0m \u001b[38;5;66;03m# parallel_backend contexts set at a higher level,\u001b[39;00m\n\u001b[0;32m    455\u001b[0m \u001b[38;5;66;03m# since correctness does not rely on using threads.\u001b[39;00m\n\u001b[1;32m--> 456\u001b[0m trees \u001b[38;5;241m=\u001b[39m \u001b[43mParallel\u001b[49m\u001b[43m(\u001b[49m\n\u001b[0;32m    457\u001b[0m \u001b[43m    \u001b[49m\u001b[43mn_jobs\u001b[49m\u001b[38;5;241;43m=\u001b[39;49m\u001b[38;5;28;43mself\u001b[39;49m\u001b[38;5;241;43m.\u001b[39;49m\u001b[43mn_jobs\u001b[49m\u001b[43m,\u001b[49m\n\u001b[0;32m    458\u001b[0m \u001b[43m    \u001b[49m\u001b[43mverbose\u001b[49m\u001b[38;5;241;43m=\u001b[39;49m\u001b[38;5;28;43mself\u001b[39;49m\u001b[38;5;241;43m.\u001b[39;49m\u001b[43mverbose\u001b[49m\u001b[43m,\u001b[49m\n\u001b[0;32m    459\u001b[0m \u001b[43m    \u001b[49m\u001b[43mprefer\u001b[49m\u001b[38;5;241;43m=\u001b[39;49m\u001b[38;5;124;43m\"\u001b[39;49m\u001b[38;5;124;43mthreads\u001b[39;49m\u001b[38;5;124;43m\"\u001b[39;49m\u001b[43m,\u001b[49m\n\u001b[0;32m    460\u001b[0m \u001b[43m\u001b[49m\u001b[43m)\u001b[49m\u001b[43m(\u001b[49m\n\u001b[0;32m    461\u001b[0m \u001b[43m    \u001b[49m\u001b[43mdelayed\u001b[49m\u001b[43m(\u001b[49m\u001b[43m_parallel_build_trees\u001b[49m\u001b[43m)\u001b[49m\u001b[43m(\u001b[49m\n\u001b[0;32m    462\u001b[0m \u001b[43m        \u001b[49m\u001b[43mt\u001b[49m\u001b[43m,\u001b[49m\n\u001b[0;32m    463\u001b[0m \u001b[43m        \u001b[49m\u001b[38;5;28;43mself\u001b[39;49m\u001b[38;5;241;43m.\u001b[39;49m\u001b[43mbootstrap\u001b[49m\u001b[43m,\u001b[49m\n\u001b[0;32m    464\u001b[0m \u001b[43m        \u001b[49m\u001b[43mX\u001b[49m\u001b[43m,\u001b[49m\n\u001b[0;32m    465\u001b[0m \u001b[43m        \u001b[49m\u001b[43my\u001b[49m\u001b[43m,\u001b[49m\n\u001b[0;32m    466\u001b[0m \u001b[43m        \u001b[49m\u001b[43msample_weight\u001b[49m\u001b[43m,\u001b[49m\n\u001b[0;32m    467\u001b[0m \u001b[43m        \u001b[49m\u001b[43mi\u001b[49m\u001b[43m,\u001b[49m\n\u001b[0;32m    468\u001b[0m \u001b[43m        \u001b[49m\u001b[38;5;28;43mlen\u001b[39;49m\u001b[43m(\u001b[49m\u001b[43mtrees\u001b[49m\u001b[43m)\u001b[49m\u001b[43m,\u001b[49m\n\u001b[0;32m    469\u001b[0m \u001b[43m        \u001b[49m\u001b[43mverbose\u001b[49m\u001b[38;5;241;43m=\u001b[39;49m\u001b[38;5;28;43mself\u001b[39;49m\u001b[38;5;241;43m.\u001b[39;49m\u001b[43mverbose\u001b[49m\u001b[43m,\u001b[49m\n\u001b[0;32m    470\u001b[0m \u001b[43m        \u001b[49m\u001b[43mclass_weight\u001b[49m\u001b[38;5;241;43m=\u001b[39;49m\u001b[38;5;28;43mself\u001b[39;49m\u001b[38;5;241;43m.\u001b[39;49m\u001b[43mclass_weight\u001b[49m\u001b[43m,\u001b[49m\n\u001b[0;32m    471\u001b[0m \u001b[43m        \u001b[49m\u001b[43mn_samples_bootstrap\u001b[49m\u001b[38;5;241;43m=\u001b[39;49m\u001b[43mn_samples_bootstrap\u001b[49m\u001b[43m,\u001b[49m\n\u001b[0;32m    472\u001b[0m \u001b[43m    \u001b[49m\u001b[43m)\u001b[49m\n\u001b[0;32m    473\u001b[0m \u001b[43m    \u001b[49m\u001b[38;5;28;43;01mfor\u001b[39;49;00m\u001b[43m \u001b[49m\u001b[43mi\u001b[49m\u001b[43m,\u001b[49m\u001b[43m \u001b[49m\u001b[43mt\u001b[49m\u001b[43m \u001b[49m\u001b[38;5;129;43;01min\u001b[39;49;00m\u001b[43m \u001b[49m\u001b[38;5;28;43menumerate\u001b[39;49m\u001b[43m(\u001b[49m\u001b[43mtrees\u001b[49m\u001b[43m)\u001b[49m\n\u001b[0;32m    474\u001b[0m \u001b[43m\u001b[49m\u001b[43m)\u001b[49m\n\u001b[0;32m    476\u001b[0m \u001b[38;5;66;03m# Collect newly grown trees\u001b[39;00m\n\u001b[0;32m    477\u001b[0m \u001b[38;5;28mself\u001b[39m\u001b[38;5;241m.\u001b[39mestimators_\u001b[38;5;241m.\u001b[39mextend(trees)\n",
      "File \u001b[1;32m~\\AppData\\Local\\Programs\\Python\\Python312\\Lib\\site-packages\\sklearn\\utils\\parallel.py:65\u001b[0m, in \u001b[0;36mParallel.__call__\u001b[1;34m(self, iterable)\u001b[0m\n\u001b[0;32m     60\u001b[0m config \u001b[38;5;241m=\u001b[39m get_config()\n\u001b[0;32m     61\u001b[0m iterable_with_config \u001b[38;5;241m=\u001b[39m (\n\u001b[0;32m     62\u001b[0m     (_with_config(delayed_func, config), args, kwargs)\n\u001b[0;32m     63\u001b[0m     \u001b[38;5;28;01mfor\u001b[39;00m delayed_func, args, kwargs \u001b[38;5;129;01min\u001b[39;00m iterable\n\u001b[0;32m     64\u001b[0m )\n\u001b[1;32m---> 65\u001b[0m \u001b[38;5;28;01mreturn\u001b[39;00m \u001b[38;5;28;43msuper\u001b[39;49m\u001b[43m(\u001b[49m\u001b[43m)\u001b[49m\u001b[38;5;241;43m.\u001b[39;49m\u001b[38;5;21;43m__call__\u001b[39;49m\u001b[43m(\u001b[49m\u001b[43miterable_with_config\u001b[49m\u001b[43m)\u001b[49m\n",
      "File \u001b[1;32m~\\AppData\\Local\\Programs\\Python\\Python312\\Lib\\site-packages\\joblib\\parallel.py:1863\u001b[0m, in \u001b[0;36mParallel.__call__\u001b[1;34m(self, iterable)\u001b[0m\n\u001b[0;32m   1861\u001b[0m     output \u001b[38;5;241m=\u001b[39m \u001b[38;5;28mself\u001b[39m\u001b[38;5;241m.\u001b[39m_get_sequential_output(iterable)\n\u001b[0;32m   1862\u001b[0m     \u001b[38;5;28mnext\u001b[39m(output)\n\u001b[1;32m-> 1863\u001b[0m     \u001b[38;5;28;01mreturn\u001b[39;00m output \u001b[38;5;28;01mif\u001b[39;00m \u001b[38;5;28mself\u001b[39m\u001b[38;5;241m.\u001b[39mreturn_generator \u001b[38;5;28;01melse\u001b[39;00m \u001b[38;5;28;43mlist\u001b[39;49m\u001b[43m(\u001b[49m\u001b[43moutput\u001b[49m\u001b[43m)\u001b[49m\n\u001b[0;32m   1865\u001b[0m \u001b[38;5;66;03m# Let's create an ID that uniquely identifies the current call. If the\u001b[39;00m\n\u001b[0;32m   1866\u001b[0m \u001b[38;5;66;03m# call is interrupted early and that the same instance is immediately\u001b[39;00m\n\u001b[0;32m   1867\u001b[0m \u001b[38;5;66;03m# re-used, this id will be used to prevent workers that were\u001b[39;00m\n\u001b[0;32m   1868\u001b[0m \u001b[38;5;66;03m# concurrently finalizing a task from the previous call to run the\u001b[39;00m\n\u001b[0;32m   1869\u001b[0m \u001b[38;5;66;03m# callback.\u001b[39;00m\n\u001b[0;32m   1870\u001b[0m \u001b[38;5;28;01mwith\u001b[39;00m \u001b[38;5;28mself\u001b[39m\u001b[38;5;241m.\u001b[39m_lock:\n",
      "File \u001b[1;32m~\\AppData\\Local\\Programs\\Python\\Python312\\Lib\\site-packages\\joblib\\parallel.py:1792\u001b[0m, in \u001b[0;36mParallel._get_sequential_output\u001b[1;34m(self, iterable)\u001b[0m\n\u001b[0;32m   1790\u001b[0m \u001b[38;5;28mself\u001b[39m\u001b[38;5;241m.\u001b[39mn_dispatched_batches \u001b[38;5;241m+\u001b[39m\u001b[38;5;241m=\u001b[39m \u001b[38;5;241m1\u001b[39m\n\u001b[0;32m   1791\u001b[0m \u001b[38;5;28mself\u001b[39m\u001b[38;5;241m.\u001b[39mn_dispatched_tasks \u001b[38;5;241m+\u001b[39m\u001b[38;5;241m=\u001b[39m \u001b[38;5;241m1\u001b[39m\n\u001b[1;32m-> 1792\u001b[0m res \u001b[38;5;241m=\u001b[39m \u001b[43mfunc\u001b[49m\u001b[43m(\u001b[49m\u001b[38;5;241;43m*\u001b[39;49m\u001b[43margs\u001b[49m\u001b[43m,\u001b[49m\u001b[43m \u001b[49m\u001b[38;5;241;43m*\u001b[39;49m\u001b[38;5;241;43m*\u001b[39;49m\u001b[43mkwargs\u001b[49m\u001b[43m)\u001b[49m\n\u001b[0;32m   1793\u001b[0m \u001b[38;5;28mself\u001b[39m\u001b[38;5;241m.\u001b[39mn_completed_tasks \u001b[38;5;241m+\u001b[39m\u001b[38;5;241m=\u001b[39m \u001b[38;5;241m1\u001b[39m\n\u001b[0;32m   1794\u001b[0m \u001b[38;5;28mself\u001b[39m\u001b[38;5;241m.\u001b[39mprint_progress()\n",
      "File \u001b[1;32m~\\AppData\\Local\\Programs\\Python\\Python312\\Lib\\site-packages\\sklearn\\utils\\parallel.py:127\u001b[0m, in \u001b[0;36m_FuncWrapper.__call__\u001b[1;34m(self, *args, **kwargs)\u001b[0m\n\u001b[0;32m    125\u001b[0m     config \u001b[38;5;241m=\u001b[39m {}\n\u001b[0;32m    126\u001b[0m \u001b[38;5;28;01mwith\u001b[39;00m config_context(\u001b[38;5;241m*\u001b[39m\u001b[38;5;241m*\u001b[39mconfig):\n\u001b[1;32m--> 127\u001b[0m     \u001b[38;5;28;01mreturn\u001b[39;00m \u001b[38;5;28;43mself\u001b[39;49m\u001b[38;5;241;43m.\u001b[39;49m\u001b[43mfunction\u001b[49m\u001b[43m(\u001b[49m\u001b[38;5;241;43m*\u001b[39;49m\u001b[43margs\u001b[49m\u001b[43m,\u001b[49m\u001b[43m \u001b[49m\u001b[38;5;241;43m*\u001b[39;49m\u001b[38;5;241;43m*\u001b[39;49m\u001b[43mkwargs\u001b[49m\u001b[43m)\u001b[49m\n",
      "File \u001b[1;32m~\\AppData\\Local\\Programs\\Python\\Python312\\Lib\\site-packages\\sklearn\\ensemble\\_forest.py:188\u001b[0m, in \u001b[0;36m_parallel_build_trees\u001b[1;34m(tree, bootstrap, X, y, sample_weight, tree_idx, n_trees, verbose, class_weight, n_samples_bootstrap)\u001b[0m\n\u001b[0;32m    185\u001b[0m     \u001b[38;5;28;01melif\u001b[39;00m class_weight \u001b[38;5;241m==\u001b[39m \u001b[38;5;124m\"\u001b[39m\u001b[38;5;124mbalanced_subsample\u001b[39m\u001b[38;5;124m\"\u001b[39m:\n\u001b[0;32m    186\u001b[0m         curr_sample_weight \u001b[38;5;241m*\u001b[39m\u001b[38;5;241m=\u001b[39m compute_sample_weight(\u001b[38;5;124m\"\u001b[39m\u001b[38;5;124mbalanced\u001b[39m\u001b[38;5;124m\"\u001b[39m, y, indices\u001b[38;5;241m=\u001b[39mindices)\n\u001b[1;32m--> 188\u001b[0m     \u001b[43mtree\u001b[49m\u001b[38;5;241;43m.\u001b[39;49m\u001b[43mfit\u001b[49m\u001b[43m(\u001b[49m\u001b[43mX\u001b[49m\u001b[43m,\u001b[49m\u001b[43m \u001b[49m\u001b[43my\u001b[49m\u001b[43m,\u001b[49m\u001b[43m \u001b[49m\u001b[43msample_weight\u001b[49m\u001b[38;5;241;43m=\u001b[39;49m\u001b[43mcurr_sample_weight\u001b[49m\u001b[43m,\u001b[49m\u001b[43m \u001b[49m\u001b[43mcheck_input\u001b[49m\u001b[38;5;241;43m=\u001b[39;49m\u001b[38;5;28;43;01mFalse\u001b[39;49;00m\u001b[43m)\u001b[49m\n\u001b[0;32m    189\u001b[0m \u001b[38;5;28;01melse\u001b[39;00m:\n\u001b[0;32m    190\u001b[0m     tree\u001b[38;5;241m.\u001b[39mfit(X, y, sample_weight\u001b[38;5;241m=\u001b[39msample_weight, check_input\u001b[38;5;241m=\u001b[39m\u001b[38;5;28;01mFalse\u001b[39;00m)\n",
      "File \u001b[1;32m~\\AppData\\Local\\Programs\\Python\\Python312\\Lib\\site-packages\\sklearn\\base.py:1152\u001b[0m, in \u001b[0;36m_fit_context.<locals>.decorator.<locals>.wrapper\u001b[1;34m(estimator, *args, **kwargs)\u001b[0m\n\u001b[0;32m   1145\u001b[0m     estimator\u001b[38;5;241m.\u001b[39m_validate_params()\n\u001b[0;32m   1147\u001b[0m \u001b[38;5;28;01mwith\u001b[39;00m config_context(\n\u001b[0;32m   1148\u001b[0m     skip_parameter_validation\u001b[38;5;241m=\u001b[39m(\n\u001b[0;32m   1149\u001b[0m         prefer_skip_nested_validation \u001b[38;5;129;01mor\u001b[39;00m global_skip_validation\n\u001b[0;32m   1150\u001b[0m     )\n\u001b[0;32m   1151\u001b[0m ):\n\u001b[1;32m-> 1152\u001b[0m     \u001b[38;5;28;01mreturn\u001b[39;00m \u001b[43mfit_method\u001b[49m\u001b[43m(\u001b[49m\u001b[43mestimator\u001b[49m\u001b[43m,\u001b[49m\u001b[43m \u001b[49m\u001b[38;5;241;43m*\u001b[39;49m\u001b[43margs\u001b[49m\u001b[43m,\u001b[49m\u001b[43m \u001b[49m\u001b[38;5;241;43m*\u001b[39;49m\u001b[38;5;241;43m*\u001b[39;49m\u001b[43mkwargs\u001b[49m\u001b[43m)\u001b[49m\n",
      "File \u001b[1;32m~\\AppData\\Local\\Programs\\Python\\Python312\\Lib\\site-packages\\sklearn\\tree\\_classes.py:959\u001b[0m, in \u001b[0;36mDecisionTreeClassifier.fit\u001b[1;34m(self, X, y, sample_weight, check_input)\u001b[0m\n\u001b[0;32m    928\u001b[0m \u001b[38;5;129m@_fit_context\u001b[39m(prefer_skip_nested_validation\u001b[38;5;241m=\u001b[39m\u001b[38;5;28;01mTrue\u001b[39;00m)\n\u001b[0;32m    929\u001b[0m \u001b[38;5;28;01mdef\u001b[39;00m \u001b[38;5;21mfit\u001b[39m(\u001b[38;5;28mself\u001b[39m, X, y, sample_weight\u001b[38;5;241m=\u001b[39m\u001b[38;5;28;01mNone\u001b[39;00m, check_input\u001b[38;5;241m=\u001b[39m\u001b[38;5;28;01mTrue\u001b[39;00m):\n\u001b[0;32m    930\u001b[0m \u001b[38;5;250m    \u001b[39m\u001b[38;5;124;03m\"\"\"Build a decision tree classifier from the training set (X, y).\u001b[39;00m\n\u001b[0;32m    931\u001b[0m \n\u001b[0;32m    932\u001b[0m \u001b[38;5;124;03m    Parameters\u001b[39;00m\n\u001b[1;32m   (...)\u001b[0m\n\u001b[0;32m    956\u001b[0m \u001b[38;5;124;03m        Fitted estimator.\u001b[39;00m\n\u001b[0;32m    957\u001b[0m \u001b[38;5;124;03m    \"\"\"\u001b[39;00m\n\u001b[1;32m--> 959\u001b[0m     \u001b[38;5;28;43msuper\u001b[39;49m\u001b[43m(\u001b[49m\u001b[43m)\u001b[49m\u001b[38;5;241;43m.\u001b[39;49m\u001b[43m_fit\u001b[49m\u001b[43m(\u001b[49m\n\u001b[0;32m    960\u001b[0m \u001b[43m        \u001b[49m\u001b[43mX\u001b[49m\u001b[43m,\u001b[49m\n\u001b[0;32m    961\u001b[0m \u001b[43m        \u001b[49m\u001b[43my\u001b[49m\u001b[43m,\u001b[49m\n\u001b[0;32m    962\u001b[0m \u001b[43m        \u001b[49m\u001b[43msample_weight\u001b[49m\u001b[38;5;241;43m=\u001b[39;49m\u001b[43msample_weight\u001b[49m\u001b[43m,\u001b[49m\n\u001b[0;32m    963\u001b[0m \u001b[43m        \u001b[49m\u001b[43mcheck_input\u001b[49m\u001b[38;5;241;43m=\u001b[39;49m\u001b[43mcheck_input\u001b[49m\u001b[43m,\u001b[49m\n\u001b[0;32m    964\u001b[0m \u001b[43m    \u001b[49m\u001b[43m)\u001b[49m\n\u001b[0;32m    965\u001b[0m     \u001b[38;5;28;01mreturn\u001b[39;00m \u001b[38;5;28mself\u001b[39m\n",
      "File \u001b[1;32m~\\AppData\\Local\\Programs\\Python\\Python312\\Lib\\site-packages\\sklearn\\tree\\_classes.py:443\u001b[0m, in \u001b[0;36mBaseDecisionTree._fit\u001b[1;34m(self, X, y, sample_weight, check_input, missing_values_in_feature_mask)\u001b[0m\n\u001b[0;32m    432\u001b[0m \u001b[38;5;28;01melse\u001b[39;00m:\n\u001b[0;32m    433\u001b[0m     builder \u001b[38;5;241m=\u001b[39m BestFirstTreeBuilder(\n\u001b[0;32m    434\u001b[0m         splitter,\n\u001b[0;32m    435\u001b[0m         min_samples_split,\n\u001b[1;32m   (...)\u001b[0m\n\u001b[0;32m    440\u001b[0m         \u001b[38;5;28mself\u001b[39m\u001b[38;5;241m.\u001b[39mmin_impurity_decrease,\n\u001b[0;32m    441\u001b[0m     )\n\u001b[1;32m--> 443\u001b[0m \u001b[43mbuilder\u001b[49m\u001b[38;5;241;43m.\u001b[39;49m\u001b[43mbuild\u001b[49m\u001b[43m(\u001b[49m\u001b[38;5;28;43mself\u001b[39;49m\u001b[38;5;241;43m.\u001b[39;49m\u001b[43mtree_\u001b[49m\u001b[43m,\u001b[49m\u001b[43m \u001b[49m\u001b[43mX\u001b[49m\u001b[43m,\u001b[49m\u001b[43m \u001b[49m\u001b[43my\u001b[49m\u001b[43m,\u001b[49m\u001b[43m \u001b[49m\u001b[43msample_weight\u001b[49m\u001b[43m,\u001b[49m\u001b[43m \u001b[49m\u001b[43mmissing_values_in_feature_mask\u001b[49m\u001b[43m)\u001b[49m\n\u001b[0;32m    445\u001b[0m \u001b[38;5;28;01mif\u001b[39;00m \u001b[38;5;28mself\u001b[39m\u001b[38;5;241m.\u001b[39mn_outputs_ \u001b[38;5;241m==\u001b[39m \u001b[38;5;241m1\u001b[39m \u001b[38;5;129;01mand\u001b[39;00m is_classifier(\u001b[38;5;28mself\u001b[39m):\n\u001b[0;32m    446\u001b[0m     \u001b[38;5;28mself\u001b[39m\u001b[38;5;241m.\u001b[39mn_classes_ \u001b[38;5;241m=\u001b[39m \u001b[38;5;28mself\u001b[39m\u001b[38;5;241m.\u001b[39mn_classes_[\u001b[38;5;241m0\u001b[39m]\n",
      "\u001b[1;31mKeyboardInterrupt\u001b[0m: "
     ]
    }
   ],
   "source": [
    "%%time\n",
    "\n",
    "# List to hold the trained classifiers\n",
    "rfs = []\n",
    "\n",
    "for i in [0,1]:\n",
    "    # Create the parameter grid\n",
    "    param_dist = {'n_estimators': randint(50,500),\n",
    "              'max_depth': randint(1,20)}\n",
    "\n",
    "    # Create a random forest classifier\n",
    "    rf = RandomForestClassifier(random_state=random_state)\n",
    "    \n",
    "    # Use random search to find the best hyperparameters\n",
    "    rand_search = RandomizedSearchCV(rf, \n",
    "                                     param_distributions = param_dist, \n",
    "                                     n_iter=5, \n",
    "                                     cv=5)\n",
    "\n",
    "    # Split the data into training and test sets\n",
    "    # X_train, X_test, y_train, y_test = train_test_split(X[i], y[i], test_size=0.2, random_state=random_state)\n",
    "   \n",
    "    # Fit the random_search to the data\n",
    "    rand_search.fit(gtp_tt[i][0], gtp_tt[i][2])\n",
    "\n",
    "    # Store the best model\n",
    "    best_rf = rand_search.best_estimator_\n",
    "\n",
    "    # Predict\n",
    "    y_pred = best_rf.predict(gtp_tt[i][1])\n",
    "    accuracy = accuracy_score(gtp_tt[i][3], y_pred)\n",
    "\n",
    "    # Append best model to list\n",
    "    rfs.append(best_rf)\n",
    "\n",
    "    print(periods[i])\n",
    "    print('============')\n",
    "    # print('y_test:', y_test['class'].values)\n",
    "    # print('y_pred:', y_pred)\n",
    "    print(\"Accuracy:\", accuracy)\n",
    "    print()\n",
    "\n",
    "    # List the importance of features\n",
    "    print('Feature Importance')\n",
    "    feature_scores = pd.Series(best_rf.feature_importances_, index=gtp_tt[i][0].columns).sort_values(ascending=False)\n",
    "    print(feature_scores)\n",
    "    print()\n",
    "\n",
    "    # Confusion matrix\n",
    "    cm = confusion_matrix(gtp_tt[i][3], y_pred)\n",
    "    print('Confusion matrix')\n",
    "    print(cm)\n",
    "    print()"
   ]
  },
  {
   "cell_type": "markdown",
   "id": "0a063d4a-b08a-4a65-a6c0-6dd21ae755c0",
   "metadata": {},
   "source": [
    "#### Predictions for each period"
   ]
  },
  {
   "cell_type": "code",
   "execution_count": 79,
   "id": "bf3f68e4-6ef9-40a2-b8f5-09c28159e91b",
   "metadata": {},
   "outputs": [],
   "source": [
    "rf_arrs = [[] for i in [0,1]]"
   ]
  },
  {
   "cell_type": "code",
   "execution_count": 80,
   "id": "a492787b-a9d4-4ba6-8334-924d5eef24ac",
   "metadata": {},
   "outputs": [],
   "source": [
    "# Sizes for reshaping flattened arrays\n",
    "w = ds.sizes['y']\n",
    "l = ds.sizes['x']"
   ]
  },
  {
   "cell_type": "code",
   "execution_count": 81,
   "id": "bf8340e1-9d9d-43b1-8b93-eeb8ed4b4184",
   "metadata": {},
   "outputs": [
    {
     "name": "stdout",
     "output_type": "stream",
     "text": [
      "CPU times: total: 5.77 s\n",
      "Wall time: 6.7 s\n"
     ]
    }
   ],
   "source": [
    "%%time\n",
    "rf_arrs = [rfs[i].predict(ds.sel(period=periods[i]).to_dataframe()[rf_vars].values).reshape(w,l) for i, period in enumerate(periods)]"
   ]
  },
  {
   "cell_type": "markdown",
   "id": "9c079d5b-0677-4ed5-b55b-b7b0ca895a6b",
   "metadata": {},
   "source": [
    "#### Add the classification data to the dataset"
   ]
  },
  {
   "cell_type": "code",
   "execution_count": 82,
   "id": "2189789b-67ed-4255-b4c1-a8348123442d",
   "metadata": {},
   "outputs": [],
   "source": [
    "ds = ds.assign({'RF_Class': (('period','y','x'), rf_arrs)})"
   ]
  },
  {
   "cell_type": "code",
   "execution_count": 84,
   "id": "f3eca740-e9a8-42c9-8dda-019b18d3f32d",
   "metadata": {},
   "outputs": [
    {
     "data": {
      "text/plain": [
       "<xarray.plot.facetgrid.FacetGrid at 0x286388fd130>"
      ]
     },
     "execution_count": 84,
     "metadata": {},
     "output_type": "execute_result"
    },
    {
     "data": {
      "image/png": "[encoded data removed]",
      "text/plain": [
       "<Figure size 700x300 with 3 Axes>"
      ]
     },
     "metadata": {},
     "output_type": "display_data"
    }
   ],
   "source": [
    "ds.RF_Class.plot(col='period', \n",
    "                 levels=np.unique(ds.RF_Class)+1,\n",
    "                 cmap='RdYlGn')"
   ]
  },
  {
   "cell_type": "markdown",
   "id": "44b2e493-b030-4226-b4f6-a5881e0cdd7b",
   "metadata": {},
   "source": [
    "## Step 4: Export data "
   ]
  },
  {
   "cell_type": "markdown",
   "id": "c184b725-f4e6-4b64-a86e-7f62a4e73a48",
   "metadata": {},
   "source": [
    "### netCDF"
   ]
  },
  {
   "cell_type": "code",
   "execution_count": 85,
   "id": "0537a01c-588f-4f02-8c53-4a9397b99415",
   "metadata": {
    "tags": []
   },
   "outputs": [],
   "source": [
    "# Save as netCDF\n",
    "ds.to_netcdf(netcdf_dir+study_area_abbrev+'.nc')"
   ]
  },
  {
   "cell_type": "markdown",
   "id": "beb10bb8-ce64-4f4f-afe8-68b47fe34a36",
   "metadata": {},
   "source": [
    "### GeoTIFF - Time steps\n",
    "\n",
    "Each year is saved with all variables in a geoTIFF file.\n",
    "\n",
    "**Note**: Converting `to_array()` is essential to avoid \"ufunc 'isnan' not supported for the input types, and the inputs could not be safely coerced to any supported types according to the casting rule ''safe''\" error.  \n"
   ]
  },
  {
   "cell_type": "code",
   "execution_count": 86,
   "id": "f404d91b-42cc-4cb2-8c2f-90fd76ad7265",
   "metadata": {
    "tags": []
   },
   "outputs": [],
   "source": [
    "for period in ds.period.values:\n",
    "     (ds\n",
    "     .sel(period=period)\n",
    "     .to_array() # Essential!\n",
    "     .rio.to_raster(geotiff_dir+study_area_abbrev+'_'+str(period)+'.tiff')\n",
    "     )"
   ]
  },
  {
   "cell_type": "code",
   "execution_count": 73,
   "id": "dd684c86-7834-4a07-a517-a9d5865b9ae4",
   "metadata": {},
   "outputs": [],
   "source": [
    "# Single variable\n",
    "class_var = 'RF_Class'\n",
    "for period in ds.period.values:\n",
    "     (ds[class_var]\n",
    "     .sel(period=period)\n",
    "     # .to_array() # Essential!\n",
    "     .rio.to_raster(geotiff_dir+study_area_abbrev+'_'+str(period)+'_'+class_var+'.tiff')\n",
    "     )"
   ]
  },
  {
   "cell_type": "markdown",
   "id": "9abc7080-0cfb-44bc-8ef2-b75686b5d497",
   "metadata": {},
   "source": [
    "---------"
   ]
  },
  {
   "cell_type": "code",
   "execution_count": 74,
   "id": "4051c60a-603f-4d98-8f28-f03d8d87dea4",
   "metadata": {},
   "outputs": [
    {
     "data": {
      "text/html": [
       "<div><svg style=\"position: absolute; width: 0; height: 0; overflow: hidden\">\n",
       "<defs>\n",
       "<symbol id=\"icon-database\" viewBox=\"0 0 32 32\">\n",
       "<path d=\"M16 0c-8.837 0-16 2.239-16 5v4c0 2.761 7.163 5 16 5s16-2.239 16-5v-4c0-2.761-7.163-5-16-5z\"></path>\n",
       "<path d=\"M16 17c-8.837 0-16-2.239-16-5v6c0 2.761 7.163 5 16 5s16-2.239 16-5v-6c0 2.761-7.163 5-16 5z\"></path>\n",
       "<path d=\"M16 26c-8.837 0-16-2.239-16-5v6c0 2.761 7.163 5 16 5s16-2.239 16-5v-6c0 2.761-7.163 5-16 5z\"></path>\n",
       "</symbol>\n",
       "<symbol id=\"icon-file-text2\" viewBox=\"0 0 32 32\">\n",
       "<path d=\"M28.681 7.159c-0.694-0.947-1.662-2.053-2.724-3.116s-2.169-2.030-3.116-2.724c-1.612-1.182-2.393-1.319-2.841-1.319h-15.5c-1.378 0-2.5 1.121-2.5 2.5v27c0 1.378 1.122 2.5 2.5 2.5h23c1.378 0 2.5-1.122 2.5-2.5v-19.5c0-0.448-0.137-1.23-1.319-2.841zM24.543 5.457c0.959 0.959 1.712 1.825 2.268 2.543h-4.811v-4.811c0.718 0.556 1.584 1.309 2.543 2.268zM28 29.5c0 0.271-0.229 0.5-0.5 0.5h-23c-0.271 0-0.5-0.229-0.5-0.5v-27c0-0.271 0.229-0.5 0.5-0.5 0 0 15.499-0 15.5 0v7c0 0.552 0.448 1 1 1h7v19.5z\"></path>\n",
       "<path d=\"M23 26h-14c-0.552 0-1-0.448-1-1s0.448-1 1-1h14c0.552 0 1 0.448 1 1s-0.448 1-1 1z\"></path>\n",
       "<path d=\"M23 22h-14c-0.552 0-1-0.448-1-1s0.448-1 1-1h14c0.552 0 1 0.448 1 1s-0.448 1-1 1z\"></path>\n",
       "<path d=\"M23 18h-14c-0.552 0-1-0.448-1-1s0.448-1 1-1h14c0.552 0 1 0.448 1 1s-0.448 1-1 1z\"></path>\n",
       "</symbol>\n",
       "</defs>\n",
       "</svg>\n",
       "<style>/* CSS stylesheet for displaying xarray objects in jupyterlab.\n",
       " *\n",
       " */\n",
       "\n",
       ":root {\n",
       "  --xr-font-color0: var(--jp-content-font-color0, rgba(0, 0, 0, 1));\n",
       "  --xr-font-color2: var(--jp-content-font-color2, rgba(0, 0, 0, 0.54));\n",
       "  --xr-font-color3: var(--jp-content-font-color3, rgba(0, 0, 0, 0.38));\n",
       "  --xr-border-color: var(--jp-border-color2, #e0e0e0);\n",
       "  --xr-disabled-color: var(--jp-layout-color3, #bdbdbd);\n",
       "  --xr-background-color: var(--jp-layout-color0, white);\n",
       "  --xr-background-color-row-even: var(--jp-layout-color1, white);\n",
       "  --xr-background-color-row-odd: var(--jp-layout-color2, #eeeeee);\n",
       "}\n",
       "\n",
       "html[theme=dark],\n",
       "body[data-theme=dark],\n",
       "body.vscode-dark {\n",
       "  --xr-font-color0: rgba(255, 255, 255, 1);\n",
       "  --xr-font-color2: rgba(255, 255, 255, 0.54);\n",
       "  --xr-font-color3: rgba(255, 255, 255, 0.38);\n",
       "  --xr-border-color: #1F1F1F;\n",
       "  --xr-disabled-color: #515151;\n",
       "  --xr-background-color: #111111;\n",
       "  --xr-background-color-row-even: #111111;\n",
       "  --xr-background-color-row-odd: #313131;\n",
       "}\n",
       "\n",
       ".xr-wrap {\n",
       "  display: block !important;\n",
       "  min-width: 300px;\n",
       "  max-width: 700px;\n",
       "}\n",
       "\n",
       ".xr-text-repr-fallback {\n",
       "  /* fallback to plain text repr when CSS is not injected (untrusted notebook) */\n",
       "  display: none;\n",
       "}\n",
       "\n",
       ".xr-header {\n",
       "  padding-top: 6px;\n",
       "  padding-bottom: 6px;\n",
       "  margin-bottom: 4px;\n",
       "  border-bottom: solid 1px var(--xr-border-color);\n",
       "}\n",
       "\n",
       ".xr-header > div,\n",
       ".xr-header > ul {\n",
       "  display: inline;\n",
       "  margin-top: 0;\n",
       "  margin-bottom: 0;\n",
       "}\n",
       "\n",
       ".xr-obj-type,\n",
       ".xr-array-name {\n",
       "  margin-left: 2px;\n",
       "  margin-right: 10px;\n",
       "}\n",
       "\n",
       ".xr-obj-type {\n",
       "  color: var(--xr-font-color2);\n",
       "}\n",
       "\n",
       ".xr-sections {\n",
       "  padding-left: 0 !important;\n",
       "  display: grid;\n",
       "  grid-template-columns: 150px auto auto 1fr 20px 20px;\n",
       "}\n",
       "\n",
       ".xr-section-item {\n",
       "  display: contents;\n",
       "}\n",
       "\n",
       ".xr-section-item input {\n",
       "  display: none;\n",
       "}\n",
       "\n",
       ".xr-section-item input + label {\n",
       "  color: var(--xr-disabled-color);\n",
       "}\n",
       "\n",
       ".xr-section-item input:enabled + label {\n",
       "  cursor: pointer;\n",
       "  color: var(--xr-font-color2);\n",
       "}\n",
       "\n",
       ".xr-section-item input:enabled + label:hover {\n",
       "  color: var(--xr-font-color0);\n",
       "}\n",
       "\n",
       ".xr-section-summary {\n",
       "  grid-column: 1;\n",
       "  color: var(--xr-font-color2);\n",
       "  font-weight: 500;\n",
       "}\n",
       "\n",
       ".xr-section-summary > span {\n",
       "  display: inline-block;\n",
       "  padding-left: 0.5em;\n",
       "}\n",
       "\n",
       ".xr-section-summary-in:disabled + label {\n",
       "  color: var(--xr-font-color2);\n",
       "}\n",
       "\n",
       ".xr-section-summary-in + label:before {\n",
       "  display: inline-block;\n",
       "  content: '►';\n",
       "  font-size: 11px;\n",
       "  width: 15px;\n",
       "  text-align: center;\n",
       "}\n",
       "\n",
       ".xr-section-summary-in:disabled + label:before {\n",
       "  color: var(--xr-disabled-color);\n",
       "}\n",
       "\n",
       ".xr-section-summary-in:checked + label:before {\n",
       "  content: '▼';\n",
       "}\n",
       "\n",
       ".xr-section-summary-in:checked + label > span {\n",
       "  display: none;\n",
       "}\n",
       "\n",
       ".xr-section-summary,\n",
       ".xr-section-inline-details {\n",
       "  padding-top: 4px;\n",
       "  padding-bottom: 4px;\n",
       "}\n",
       "\n",
       ".xr-section-inline-details {\n",
       "  grid-column: 2 / -1;\n",
       "}\n",
       "\n",
       ".xr-section-details {\n",
       "  display: none;\n",
       "  grid-column: 1 / -1;\n",
       "  margin-bottom: 5px;\n",
       "}\n",
       "\n",
       ".xr-section-summary-in:checked ~ .xr-section-details {\n",
       "  display: contents;\n",
       "}\n",
       "\n",
       ".xr-array-wrap {\n",
       "  grid-column: 1 / -1;\n",
       "  display: grid;\n",
       "  grid-template-columns: 20px auto;\n",
       "}\n",
       "\n",
       ".xr-array-wrap > label {\n",
       "  grid-column: 1;\n",
       "  vertical-align: top;\n",
       "}\n",
       "\n",
       ".xr-preview {\n",
       "  color: var(--xr-font-color3);\n",
       "}\n",
       "\n",
       ".xr-array-preview,\n",
       ".xr-array-data {\n",
       "  padding: 0 5px !important;\n",
       "  grid-column: 2;\n",
       "}\n",
       "\n",
       ".xr-array-data,\n",
       ".xr-array-in:checked ~ .xr-array-preview {\n",
       "  display: none;\n",
       "}\n",
       "\n",
       ".xr-array-in:checked ~ .xr-array-data,\n",
       ".xr-array-preview {\n",
       "  display: inline-block;\n",
       "}\n",
       "\n",
       ".xr-dim-list {\n",
       "  display: inline-block !important;\n",
       "  list-style: none;\n",
       "  padding: 0 !important;\n",
       "  margin: 0;\n",
       "}\n",
       "\n",
       ".xr-dim-list li {\n",
       "  display: inline-block;\n",
       "  padding: 0;\n",
       "  margin: 0;\n",
       "}\n",
       "\n",
       ".xr-dim-list:before {\n",
       "  content: '(';\n",
       "}\n",
       "\n",
       ".xr-dim-list:after {\n",
       "  content: ')';\n",
       "}\n",
       "\n",
       ".xr-dim-list li:not(:last-child):after {\n",
       "  content: ',';\n",
       "  padding-right: 5px;\n",
       "}\n",
       "\n",
       ".xr-has-index {\n",
       "  font-weight: bold;\n",
       "}\n",
       "\n",
       ".xr-var-list,\n",
       ".xr-var-item {\n",
       "  display: contents;\n",
       "}\n",
       "\n",
       ".xr-var-item > div,\n",
       ".xr-var-item label,\n",
       ".xr-var-item > .xr-var-name span {\n",
       "  background-color: var(--xr-background-color-row-even);\n",
       "  margin-bottom: 0;\n",
       "}\n",
       "\n",
       ".xr-var-item > .xr-var-name:hover span {\n",
       "  padding-right: 5px;\n",
       "}\n",
       "\n",
       ".xr-var-list > li:nth-child(odd) > div,\n",
       ".xr-var-list > li:nth-child(odd) > label,\n",
       ".xr-var-list > li:nth-child(odd) > .xr-var-name span {\n",
       "  background-color: var(--xr-background-color-row-odd);\n",
       "}\n",
       "\n",
       ".xr-var-name {\n",
       "  grid-column: 1;\n",
       "}\n",
       "\n",
       ".xr-var-dims {\n",
       "  grid-column: 2;\n",
       "}\n",
       "\n",
       ".xr-var-dtype {\n",
       "  grid-column: 3;\n",
       "  text-align: right;\n",
       "  color: var(--xr-font-color2);\n",
       "}\n",
       "\n",
       ".xr-var-preview {\n",
       "  grid-column: 4;\n",
       "}\n",
       "\n",
       ".xr-index-preview {\n",
       "  grid-column: 2 / 5;\n",
       "  color: var(--xr-font-color2);\n",
       "}\n",
       "\n",
       ".xr-var-name,\n",
       ".xr-var-dims,\n",
       ".xr-var-dtype,\n",
       ".xr-preview,\n",
       ".xr-attrs dt {\n",
       "  white-space: nowrap;\n",
       "  overflow: hidden;\n",
       "  text-overflow: ellipsis;\n",
       "  padding-right: 10px;\n",
       "}\n",
       "\n",
       ".xr-var-name:hover,\n",
       ".xr-var-dims:hover,\n",
       ".xr-var-dtype:hover,\n",
       ".xr-attrs dt:hover {\n",
       "  overflow: visible;\n",
       "  width: auto;\n",
       "  z-index: 1;\n",
       "}\n",
       "\n",
       ".xr-var-attrs,\n",
       ".xr-var-data,\n",
       ".xr-index-data {\n",
       "  display: none;\n",
       "  background-color: var(--xr-background-color) !important;\n",
       "  padding-bottom: 5px !important;\n",
       "}\n",
       "\n",
       ".xr-var-attrs-in:checked ~ .xr-var-attrs,\n",
       ".xr-var-data-in:checked ~ .xr-var-data,\n",
       ".xr-index-data-in:checked ~ .xr-index-data {\n",
       "  display: block;\n",
       "}\n",
       "\n",
       ".xr-var-data > table {\n",
       "  float: right;\n",
       "}\n",
       "\n",
       ".xr-var-name span,\n",
       ".xr-var-data,\n",
       ".xr-index-name div,\n",
       ".xr-index-data,\n",
       ".xr-attrs {\n",
       "  padding-left: 25px !important;\n",
       "}\n",
       "\n",
       ".xr-attrs,\n",
       ".xr-var-attrs,\n",
       ".xr-var-data,\n",
       ".xr-index-data {\n",
       "  grid-column: 1 / -1;\n",
       "}\n",
       "\n",
       "dl.xr-attrs {\n",
       "  padding: 0;\n",
       "  margin: 0;\n",
       "  display: grid;\n",
       "  grid-template-columns: 125px auto;\n",
       "}\n",
       "\n",
       ".xr-attrs dt,\n",
       ".xr-attrs dd {\n",
       "  padding: 0;\n",
       "  margin: 0;\n",
       "  float: left;\n",
       "  padding-right: 10px;\n",
       "  width: auto;\n",
       "}\n",
       "\n",
       ".xr-attrs dt {\n",
       "  font-weight: normal;\n",
       "  grid-column: 1;\n",
       "}\n",
       "\n",
       ".xr-attrs dt:hover span {\n",
       "  display: inline-block;\n",
       "  background: var(--xr-background-color);\n",
       "  padding-right: 10px;\n",
       "}\n",
       "\n",
       ".xr-attrs dd {\n",
       "  grid-column: 2;\n",
       "  white-space: pre-wrap;\n",
       "  word-break: break-all;\n",
       "}\n",
       "\n",
       ".xr-icon-database,\n",
       ".xr-icon-file-text2,\n",
       ".xr-no-icon {\n",
       "  display: inline-block;\n",
       "  vertical-align: middle;\n",
       "  width: 1em;\n",
       "  height: 1.5em !important;\n",
       "  stroke-width: 0;\n",
       "  stroke: currentColor;\n",
       "  fill: currentColor;\n",
       "}\n",
       "</style><pre class='xr-text-repr-fallback'>&lt;xarray.Dataset&gt;\n",
       "Dimensions:       (period: 2, y: 496, x: 779)\n",
       "Coordinates:\n",
       "  * y             (y) float64 -3.717e+06 -3.717e+06 ... -3.732e+06 -3.732e+06\n",
       "  * x             (x) float64 1.812e+06 1.812e+06 ... 1.836e+06 1.836e+06\n",
       "    spatial_ref   int32 3577\n",
       "  * period        (period) &lt;U8 &#x27;Sep 2003&#x27; &#x27;Sep 2023&#x27;\n",
       "Data variables:\n",
       "    nbart_red     (period, y, x) float32 752.5 693.5 692.5 ... 176.0 176.5 175.0\n",
       "    nbart_blue    (period, y, x) float32 397.5 355.5 367.0 ... 387.5 388.5 389.0\n",
       "    nbart_green   (period, y, x) float32 659.5 624.5 630.5 ... 305.5 304.0 303.0\n",
       "    nbart_nir     (period, y, x) float32 2.076e+03 2.06e+03 ... 124.5 125.5\n",
       "    nbart_swir_1  (period, y, x) float32 2.264e+03 1.94e+03 ... 53.0 53.5\n",
       "    nbart_swir_2  (period, y, x) float32 1.315e+03 1.072e+03 ... 39.5 41.5\n",
       "    NDVI          (period, y, x) float32 0.4719 0.5012 ... -0.1865 -0.1794\n",
       "    NBR           (period, y, x) float32 0.2247 0.3167 0.3166 ... 0.5354 0.5104\n",
       "    NDWI          (period, y, x) float32 -0.5204 -0.5371 ... 0.4309 0.4268\n",
       "    Kmeans_Class  (period, y, x) int16 1 1 1 1 1 1 1 1 1 1 ... 1 1 1 1 1 1 1 1 1\n",
       "    RF_Class      (period, y, x) int16 4 4 4 4 4 4 4 4 4 4 ... 1 1 1 1 1 1 1 1 1</pre><div class='xr-wrap' style='display:none'><div class='xr-header'><div class='xr-obj-type'>xarray.Dataset</div></div><ul class='xr-sections'><li class='xr-section-item'><input id='section-aa5504a5-c5ec-44db-be9f-d2ba2051bf7f' class='xr-section-summary-in' type='checkbox' disabled ><label for='section-aa5504a5-c5ec-44db-be9f-d2ba2051bf7f' class='xr-section-summary'  title='Expand/collapse section'>Dimensions:</label><div class='xr-section-inline-details'><ul class='xr-dim-list'><li><span class='xr-has-index'>period</span>: 2</li><li><span class='xr-has-index'>y</span>: 496</li><li><span class='xr-has-index'>x</span>: 779</li></ul></div><div class='xr-section-details'></div></li><li class='xr-section-item'><input id='section-92fa4c5f-bfd5-42d7-86ce-dd316afd44ed' class='xr-section-summary-in' type='checkbox'  checked><label for='section-92fa4c5f-bfd5-42d7-86ce-dd316afd44ed' class='xr-section-summary' >Coordinates: <span>(4)</span></label><div class='xr-section-inline-details'></div><div class='xr-section-details'><ul class='xr-var-list'><li class='xr-var-item'><div class='xr-var-name'><span class='xr-has-index'>y</span></div><div class='xr-var-dims'>(y)</div><div class='xr-var-dtype'>float64</div><div class='xr-var-preview xr-preview'>-3.717e+06 ... -3.732e+06</div><input id='attrs-aabceb7b-c463-4ef6-b977-467d1fc6ec59' class='xr-var-attrs-in' type='checkbox' ><label for='attrs-aabceb7b-c463-4ef6-b977-467d1fc6ec59' title='Show/Hide attributes'><svg class='icon xr-icon-file-text2'><use xlink:href='#icon-file-text2'></use></svg></label><input id='data-91045c20-aa08-4d78-bdf8-42b641230aa1' class='xr-var-data-in' type='checkbox'><label for='data-91045c20-aa08-4d78-bdf8-42b641230aa1' title='Show/Hide data repr'><svg class='icon xr-icon-database'><use xlink:href='#icon-database'></use></svg></label><div class='xr-var-attrs'><dl class='xr-attrs'><dt><span>units :</span></dt><dd>metre</dd><dt><span>resolution :</span></dt><dd>-30.0</dd><dt><span>crs :</span></dt><dd>EPSG:3577</dd></dl></div><div class='xr-var-data'><pre>array([-3716685., -3716715., -3716745., ..., -3731475., -3731505., -3731535.])</pre></div></li><li class='xr-var-item'><div class='xr-var-name'><span class='xr-has-index'>x</span></div><div class='xr-var-dims'>(x)</div><div class='xr-var-dtype'>float64</div><div class='xr-var-preview xr-preview'>1.812e+06 1.812e+06 ... 1.836e+06</div><input id='attrs-279ddabb-6fd8-4699-9ca4-e7546ea772b0' class='xr-var-attrs-in' type='checkbox' ><label for='attrs-279ddabb-6fd8-4699-9ca4-e7546ea772b0' title='Show/Hide attributes'><svg class='icon xr-icon-file-text2'><use xlink:href='#icon-file-text2'></use></svg></label><input id='data-17d3133e-e7b0-4dce-ad62-6bd01b7bca02' class='xr-var-data-in' type='checkbox'><label for='data-17d3133e-e7b0-4dce-ad62-6bd01b7bca02' title='Show/Hide data repr'><svg class='icon xr-icon-database'><use xlink:href='#icon-database'></use></svg></label><div class='xr-var-attrs'><dl class='xr-attrs'><dt><span>units :</span></dt><dd>metre</dd><dt><span>resolution :</span></dt><dd>30.0</dd><dt><span>crs :</span></dt><dd>EPSG:3577</dd></dl></div><div class='xr-var-data'><pre>array([1812465., 1812495., 1812525., ..., 1835745., 1835775., 1835805.])</pre></div></li><li class='xr-var-item'><div class='xr-var-name'><span>spatial_ref</span></div><div class='xr-var-dims'>()</div><div class='xr-var-dtype'>int32</div><div class='xr-var-preview xr-preview'>3577</div><input id='attrs-61155858-f550-40cc-8d3f-d5dc390d61a4' class='xr-var-attrs-in' type='checkbox' ><label for='attrs-61155858-f550-40cc-8d3f-d5dc390d61a4' title='Show/Hide attributes'><svg class='icon xr-icon-file-text2'><use xlink:href='#icon-file-text2'></use></svg></label><input id='data-a378e08d-a768-468b-8e80-921c881fa1d9' class='xr-var-data-in' type='checkbox'><label for='data-a378e08d-a768-468b-8e80-921c881fa1d9' title='Show/Hide data repr'><svg class='icon xr-icon-database'><use xlink:href='#icon-database'></use></svg></label><div class='xr-var-attrs'><dl class='xr-attrs'><dt><span>spatial_ref :</span></dt><dd>PROJCS[&quot;GDA94 / Australian Albers&quot;,GEOGCS[&quot;GDA94&quot;,DATUM[&quot;Geocentric_Datum_of_Australia_1994&quot;,SPHEROID[&quot;GRS 1980&quot;,6378137,298.257222101,AUTHORITY[&quot;EPSG&quot;,&quot;7019&quot;]],AUTHORITY[&quot;EPSG&quot;,&quot;6283&quot;]],PRIMEM[&quot;Greenwich&quot;,0,AUTHORITY[&quot;EPSG&quot;,&quot;8901&quot;]],UNIT[&quot;degree&quot;,0.0174532925199433,AUTHORITY[&quot;EPSG&quot;,&quot;9122&quot;]],AUTHORITY[&quot;EPSG&quot;,&quot;4283&quot;]],PROJECTION[&quot;Albers_Conic_Equal_Area&quot;],PARAMETER[&quot;latitude_of_center&quot;,0],PARAMETER[&quot;longitude_of_center&quot;,132],PARAMETER[&quot;standard_parallel_1&quot;,-18],PARAMETER[&quot;standard_parallel_2&quot;,-36],PARAMETER[&quot;false_easting&quot;,0],PARAMETER[&quot;false_northing&quot;,0],UNIT[&quot;metre&quot;,1,AUTHORITY[&quot;EPSG&quot;,&quot;9001&quot;]],AXIS[&quot;Easting&quot;,EAST],AXIS[&quot;Northing&quot;,NORTH],AUTHORITY[&quot;EPSG&quot;,&quot;3577&quot;]]</dd><dt><span>grid_mapping_name :</span></dt><dd>albers_conical_equal_area</dd></dl></div><div class='xr-var-data'><pre>array(3577)</pre></div></li><li class='xr-var-item'><div class='xr-var-name'><span class='xr-has-index'>period</span></div><div class='xr-var-dims'>(period)</div><div class='xr-var-dtype'>&lt;U8</div><div class='xr-var-preview xr-preview'>&#x27;Sep 2003&#x27; &#x27;Sep 2023&#x27;</div><input id='attrs-b3131066-451c-4bed-bbe6-bc8d39ca513d' class='xr-var-attrs-in' type='checkbox' disabled><label for='attrs-b3131066-451c-4bed-bbe6-bc8d39ca513d' title='Show/Hide attributes'><svg class='icon xr-icon-file-text2'><use xlink:href='#icon-file-text2'></use></svg></label><input id='data-ac7df0da-eccb-489d-beed-16da54aef571' class='xr-var-data-in' type='checkbox'><label for='data-ac7df0da-eccb-489d-beed-16da54aef571' title='Show/Hide data repr'><svg class='icon xr-icon-database'><use xlink:href='#icon-database'></use></svg></label><div class='xr-var-attrs'><dl class='xr-attrs'></dl></div><div class='xr-var-data'><pre>array([&#x27;Sep 2003&#x27;, &#x27;Sep 2023&#x27;], dtype=&#x27;&lt;U8&#x27;)</pre></div></li></ul></div></li><li class='xr-section-item'><input id='section-90fd7e7a-1650-4f3a-ad01-89ab3dd111ee' class='xr-section-summary-in' type='checkbox'  checked><label for='section-90fd7e7a-1650-4f3a-ad01-89ab3dd111ee' class='xr-section-summary' >Data variables: <span>(11)</span></label><div class='xr-section-inline-details'></div><div class='xr-section-details'><ul class='xr-var-list'><li class='xr-var-item'><div class='xr-var-name'><span>nbart_red</span></div><div class='xr-var-dims'>(period, y, x)</div><div class='xr-var-dtype'>float32</div><div class='xr-var-preview xr-preview'>752.5 693.5 692.5 ... 176.5 175.0</div><input id='attrs-4400ff48-6b33-4855-b718-a71b5f6ed617' class='xr-var-attrs-in' type='checkbox' disabled><label for='attrs-4400ff48-6b33-4855-b718-a71b5f6ed617' title='Show/Hide attributes'><svg class='icon xr-icon-file-text2'><use xlink:href='#icon-file-text2'></use></svg></label><input id='data-ebc9a4cd-fdec-46a6-af28-73d393d6cc1b' class='xr-var-data-in' type='checkbox'><label for='data-ebc9a4cd-fdec-46a6-af28-73d393d6cc1b' title='Show/Hide data repr'><svg class='icon xr-icon-database'><use xlink:href='#icon-database'></use></svg></label><div class='xr-var-attrs'><dl class='xr-attrs'></dl></div><div class='xr-var-data'><pre>array([[[752.5, 693.5, 692.5, ..., 619. , 733. , 716.5],\n",
       "        [794.5, 705.5, 721. , ..., 648.5, 673.5, 692. ],\n",
       "        [846.5, 744.5, 724.5, ..., 684. , 530. , 586. ],\n",
       "        ...,\n",
       "        [543. , 732. , 814. , ..., 209.5, 209.5, 190.5],\n",
       "        [681. , 775.5, 774. , ..., 155. , 171.5, 171.5],\n",
       "        [505.5, 543.5, 530. , ..., 209.5, 174. , 174. ]],\n",
       "\n",
       "       [[668. , 844. , 813. , ..., 399. , 425.5, 442.5],\n",
       "        [714. , 713. , 791. , ..., 440. , 402. , 403.5],\n",
       "        [824.5, 614. , 665. , ..., 507.5, 438. , 372.5],\n",
       "        ...,\n",
       "        [324. , 537. , 640. , ..., 174.5, 178. , 175.5],\n",
       "        [437. , 467. , 513. , ..., 176. , 175.5, 174. ],\n",
       "        [380. , 351. , 364. , ..., 176. , 176.5, 175. ]]], dtype=float32)</pre></div></li><li class='xr-var-item'><div class='xr-var-name'><span>nbart_blue</span></div><div class='xr-var-dims'>(period, y, x)</div><div class='xr-var-dtype'>float32</div><div class='xr-var-preview xr-preview'>397.5 355.5 367.0 ... 388.5 389.0</div><input id='attrs-3523f68d-fcd6-49dd-ace5-8bb433bb39ec' class='xr-var-attrs-in' type='checkbox' disabled><label for='attrs-3523f68d-fcd6-49dd-ace5-8bb433bb39ec' title='Show/Hide attributes'><svg class='icon xr-icon-file-text2'><use xlink:href='#icon-file-text2'></use></svg></label><input id='data-1d629c81-6279-4973-870d-bec8b6d7b6f3' class='xr-var-data-in' type='checkbox'><label for='data-1d629c81-6279-4973-870d-bec8b6d7b6f3' title='Show/Hide data repr'><svg class='icon xr-icon-database'><use xlink:href='#icon-database'></use></svg></label><div class='xr-var-attrs'><dl class='xr-attrs'></dl></div><div class='xr-var-data'><pre>array([[[397.5, 355.5, 367. , ..., 341.5, 431.5, 443. ],\n",
       "        [437. , 371.5, 354. , ..., 336. , 394. , 385.5],\n",
       "        [468.5, 427. , 386. , ..., 335.5, 304.5, 339. ],\n",
       "        ...,\n",
       "        [317. , 424. , 458. , ..., 271. , 284.5, 261. ],\n",
       "        [340. , 396. , 398.5, ..., 261. , 251. , 251. ],\n",
       "        [316.5, 329.5, 333. , ..., 249.5, 261. , 271. ]],\n",
       "\n",
       "       [[407.5, 460. , 472. , ..., 330. , 342. , 343. ],\n",
       "        [418. , 415. , 456. , ..., 357.5, 330.5, 325.5],\n",
       "        [476. , 420. , 401. , ..., 404.5, 358.5, 311.5],\n",
       "        ...,\n",
       "        [275. , 346. , 386. , ..., 391.5, 389. , 391.5],\n",
       "        [295. , 326. , 372. , ..., 394.5, 390.5, 389. ],\n",
       "        [286. , 274. , 272. , ..., 387.5, 388.5, 389. ]]], dtype=float32)</pre></div></li><li class='xr-var-item'><div class='xr-var-name'><span>nbart_green</span></div><div class='xr-var-dims'>(period, y, x)</div><div class='xr-var-dtype'>float32</div><div class='xr-var-preview xr-preview'>659.5 624.5 630.5 ... 304.0 303.0</div><input id='attrs-bfd56f7e-4860-47e8-bbe5-686e5ef74beb' class='xr-var-attrs-in' type='checkbox' disabled><label for='attrs-bfd56f7e-4860-47e8-bbe5-686e5ef74beb' title='Show/Hide attributes'><svg class='icon xr-icon-file-text2'><use xlink:href='#icon-file-text2'></use></svg></label><input id='data-da469851-83b2-499f-86ec-dac663fd70cc' class='xr-var-data-in' type='checkbox'><label for='data-da469851-83b2-499f-86ec-dac663fd70cc' title='Show/Hide data repr'><svg class='icon xr-icon-database'><use xlink:href='#icon-database'></use></svg></label><div class='xr-var-attrs'><dl class='xr-attrs'></dl></div><div class='xr-var-data'><pre>array([[[659.5, 624.5, 630.5, ..., 602.5, 707.5, 609.5],\n",
       "        [673. , 616.5, 642.5, ..., 570.5, 628. , 592.5],\n",
       "        [703. , 614.5, 667. , ..., 586. , 486. , 539.5],\n",
       "        ...,\n",
       "        [521.5, 692. , 715. , ..., 255.5, 235. , 211.5],\n",
       "        [587.5, 614. , 656.5, ..., 259. , 255.5, 255.5],\n",
       "        [500.5, 526. , 505.5, ..., 235. , 255.5, 276. ]],\n",
       "\n",
       "       [[580. , 691. , 696. , ..., 421.5, 439.5, 455. ],\n",
       "        [618. , 612. , 678. , ..., 447. , 415. , 417.5],\n",
       "        [689.5, 578. , 564.5, ..., 531. , 440. , 400.5],\n",
       "        ...,\n",
       "        [395. , 523. , 557. , ..., 308. , 308. , 303.5],\n",
       "        [427. , 491. , 552. , ..., 305. , 304.5, 307.5],\n",
       "        [419. , 395. , 410. , ..., 305.5, 304. , 303. ]]], dtype=float32)</pre></div></li><li class='xr-var-item'><div class='xr-var-name'><span>nbart_nir</span></div><div class='xr-var-dims'>(period, y, x)</div><div class='xr-var-dtype'>float32</div><div class='xr-var-preview xr-preview'>2.076e+03 2.06e+03 ... 124.5 125.5</div><input id='attrs-587c18ba-51ab-4dcf-a705-f2a56539d21a' class='xr-var-attrs-in' type='checkbox' disabled><label for='attrs-587c18ba-51ab-4dcf-a705-f2a56539d21a' title='Show/Hide attributes'><svg class='icon xr-icon-file-text2'><use xlink:href='#icon-file-text2'></use></svg></label><input id='data-90b4003e-06d7-4388-bfa2-0f73f746d2c6' class='xr-var-data-in' type='checkbox'><label for='data-90b4003e-06d7-4388-bfa2-0f73f746d2c6' title='Show/Hide data repr'><svg class='icon xr-icon-database'><use xlink:href='#icon-database'></use></svg></label><div class='xr-var-attrs'><dl class='xr-attrs'></dl></div><div class='xr-var-data'><pre>array([[[2075.5, 2060. , 2158. , ..., 2245. , 2354.5, 2275. ],\n",
       "        [1983. , 2012.5, 2164. , ..., 2192. , 2214.5, 2308.5],\n",
       "        [2113. , 1929. , 2056. , ..., 2243. , 2128. , 2262.5],\n",
       "        ...,\n",
       "        [2406. , 2375. , 2048. , ...,  209. ,  232. ,  232. ],\n",
       "        [2030. , 1897. , 1894. , ...,  209. ,  209. ,  209. ],\n",
       "        [1855. , 1910.5, 2038. , ...,  212. ,  232. ,  232. ]],\n",
       "\n",
       "       [[1880. , 2157. , 2240. , ..., 2410. , 2529.5, 2623.5],\n",
       "        [2038. , 2052. , 2145. , ..., 2134. , 2292. , 2568.5],\n",
       "        [2080.5, 1918. , 1833. , ..., 2566. , 1926.5, 2217.5],\n",
       "        ...,\n",
       "        [2113. , 2383. , 2159. , ...,  125.5,  124.5,  124. ],\n",
       "        [2121. , 2040. , 2196. , ...,  123. ,  123.5,  126. ],\n",
       "        [2018. , 2185. , 2220. , ...,  122.5,  124.5,  125.5]]],\n",
       "      dtype=float32)</pre></div></li><li class='xr-var-item'><div class='xr-var-name'><span>nbart_swir_1</span></div><div class='xr-var-dims'>(period, y, x)</div><div class='xr-var-dtype'>float32</div><div class='xr-var-preview xr-preview'>2.264e+03 1.94e+03 ... 53.0 53.5</div><input id='attrs-e2979747-0416-4184-8706-dd284939db0f' class='xr-var-attrs-in' type='checkbox' disabled><label for='attrs-e2979747-0416-4184-8706-dd284939db0f' title='Show/Hide attributes'><svg class='icon xr-icon-file-text2'><use xlink:href='#icon-file-text2'></use></svg></label><input id='data-900a784e-48a0-4a1a-b752-b95cfc098e41' class='xr-var-data-in' type='checkbox'><label for='data-900a784e-48a0-4a1a-b752-b95cfc098e41' title='Show/Hide data repr'><svg class='icon xr-icon-database'><use xlink:href='#icon-database'></use></svg></label><div class='xr-var-attrs'><dl class='xr-attrs'></dl></div><div class='xr-var-data'><pre>array([[[2264.5, 1940. , 1918. , ..., 1838.5, 2069. , 2035. ],\n",
       "        [2389.5, 2108. , 2083.5, ..., 1818.5, 1901. , 1981. ],\n",
       "        [2466. , 2258.5, 2268. , ..., 1900.5, 1550.5, 1747.5],\n",
       "        ...,\n",
       "        [1557.5, 2004. , 1963.5, ...,   87. ,   87. ,  102.5],\n",
       "        [2052.5, 2035.5, 1816.5, ...,   71. ,   87. ,   73.5],\n",
       "        [1768.5, 1718. , 1544.5, ...,   71. ,   89. ,   73.5]],\n",
       "\n",
       "       [[1605. , 2180. , 2237. , ..., 1241.5, 1350.5, 1415.5],\n",
       "        [1983. , 2084. , 2239. , ..., 1310.5, 1215. , 1214.5],\n",
       "        [2179.5, 2106. , 1848. , ..., 1562.5, 1249.5, 1110.5],\n",
       "        ...,\n",
       "        [1315. , 1551. , 1768. , ...,   55. ,   55. ,   51.5],\n",
       "        [1769. , 1645. , 1736. , ...,   55. ,   53. ,   54. ],\n",
       "        [1484. , 1183. , 1145. , ...,   50. ,   53. ,   53.5]]],\n",
       "      dtype=float32)</pre></div></li><li class='xr-var-item'><div class='xr-var-name'><span>nbart_swir_2</span></div><div class='xr-var-dims'>(period, y, x)</div><div class='xr-var-dtype'>float32</div><div class='xr-var-preview xr-preview'>1.315e+03 1.072e+03 ... 39.5 41.5</div><input id='attrs-abc1dd5f-e9f1-45bd-b086-5235c6695350' class='xr-var-attrs-in' type='checkbox' disabled><label for='attrs-abc1dd5f-e9f1-45bd-b086-5235c6695350' title='Show/Hide attributes'><svg class='icon xr-icon-file-text2'><use xlink:href='#icon-file-text2'></use></svg></label><input id='data-05e751ad-0755-4518-a2b4-c700adb2e560' class='xr-var-data-in' type='checkbox'><label for='data-05e751ad-0755-4518-a2b4-c700adb2e560' title='Show/Hide data repr'><svg class='icon xr-icon-database'><use xlink:href='#icon-database'></use></svg></label><div class='xr-var-attrs'><dl class='xr-attrs'></dl></div><div class='xr-var-data'><pre>array([[[1315. , 1071.5, 1120. , ...,  997.5, 1206. , 1200.5],\n",
       "        [1466. , 1282.5, 1234.5, ...,  948. , 1079.5, 1136. ],\n",
       "        [1537. , 1389. , 1331. , ..., 1051.5,  856. ,  912.5],\n",
       "        ...,\n",
       "        [ 773.5, 1158. , 1173.5, ...,   47.5,   66.5,  113. ],\n",
       "        [1116. , 1192. , 1039. , ...,   90. ,   86. ,  109.5],\n",
       "        [ 994. ,  903.5,  797. , ...,   71. ,   90. ,   47.5]],\n",
       "\n",
       "       [[1015.5, 1333. , 1339. , ...,  574. ,  622.5,  637. ],\n",
       "        [1193. , 1211. , 1361. , ...,  632.5,  567. ,  546.5],\n",
       "        [1344. , 1217. , 1139. , ...,  849. ,  638.5,  491.5],\n",
       "        ...,\n",
       "        [ 608. ,  889. , 1163. , ...,   39.5,   39. ,   41.5],\n",
       "        [ 901. ,  797. ,  777. , ...,   37.5,   41.5,   39.5],\n",
       "        [ 787. ,  589. ,  591. , ...,   39.5,   39.5,   41.5]]],\n",
       "      dtype=float32)</pre></div></li><li class='xr-var-item'><div class='xr-var-name'><span>NDVI</span></div><div class='xr-var-dims'>(period, y, x)</div><div class='xr-var-dtype'>float32</div><div class='xr-var-preview xr-preview'>0.4719 0.5012 ... -0.1865 -0.1794</div><input id='attrs-e6d2a37a-fdec-490e-b7de-1e2a587ed052' class='xr-var-attrs-in' type='checkbox' disabled><label for='attrs-e6d2a37a-fdec-490e-b7de-1e2a587ed052' title='Show/Hide attributes'><svg class='icon xr-icon-file-text2'><use xlink:href='#icon-file-text2'></use></svg></label><input id='data-9d1da5e0-e0cd-4034-86a8-c309c27eb18f' class='xr-var-data-in' type='checkbox'><label for='data-9d1da5e0-e0cd-4034-86a8-c309c27eb18f' title='Show/Hide data repr'><svg class='icon xr-icon-database'><use xlink:href='#icon-database'></use></svg></label><div class='xr-var-attrs'><dl class='xr-attrs'></dl></div><div class='xr-var-data'><pre>array([[[ 0.47185314,  0.5011897 ,  0.51757556, ...,  0.56877506,\n",
       "          0.52572453,  0.52158165],\n",
       "        [ 0.43292075,  0.4835841 ,  0.5047655 , ...,  0.5469661 ,\n",
       "          0.5354177 ,  0.54022884],\n",
       "        [ 0.432402  ,  0.4482635 ,  0.481633  , ...,  0.5352037 ,\n",
       "          0.60243833,  0.59108424],\n",
       "        ...,\n",
       "        [ 0.6372844 ,  0.5332656 ,  0.4329585 , ...,  0.0367122 ,\n",
       "          0.07128802,  0.10153846],\n",
       "        [ 0.5017314 ,  0.4276991 ,  0.42782825, ...,  0.21436986,\n",
       "          0.10154934,  0.10154934],\n",
       "        [ 0.57355666,  0.5573862 ,  0.5898575 , ..., -0.04384847,\n",
       "          0.21435897,  0.21435897]],\n",
       "\n",
       "       [[ 0.47496927,  0.43752083,  0.46740916, ...,  0.7157281 ,\n",
       "          0.71192896,  0.71084183],\n",
       "        [ 0.4811046 ,  0.48426765,  0.46117166, ...,  0.6586922 ,\n",
       "          0.70164   ,  0.72837317],\n",
       "        [ 0.43126738,  0.5150079 ,  0.465995  , ...,  0.66949916,\n",
       "          0.6307169 ,  0.7128315 ],\n",
       "        ...,\n",
       "        [ 0.7340993 ,  0.6321918 ,  0.5426938 , ..., -0.18217015,\n",
       "         -0.1939424 , -0.18909985],\n",
       "        [ 0.6583268 ,  0.62744313,  0.62126243, ..., -0.19372997,\n",
       "         -0.18901351, -0.17946011],\n",
       "        [ 0.6830692 ,  0.72318614,  0.71826625, ..., -0.19446209,\n",
       "         -0.18648997, -0.17941763]]], dtype=float32)</pre></div></li><li class='xr-var-item'><div class='xr-var-name'><span>NBR</span></div><div class='xr-var-dims'>(period, y, x)</div><div class='xr-var-dtype'>float32</div><div class='xr-var-preview xr-preview'>0.2247 0.3167 ... 0.5354 0.5104</div><input id='attrs-3a574fb9-5fc6-48d4-acf9-5f76d783eaeb' class='xr-var-attrs-in' type='checkbox' disabled><label for='attrs-3a574fb9-5fc6-48d4-acf9-5f76d783eaeb' title='Show/Hide attributes'><svg class='icon xr-icon-file-text2'><use xlink:href='#icon-file-text2'></use></svg></label><input id='data-17e10c87-7cd0-437b-87f8-5a14004a5706' class='xr-var-data-in' type='checkbox'><label for='data-17e10c87-7cd0-437b-87f8-5a14004a5706' title='Show/Hide data repr'><svg class='icon xr-icon-database'><use xlink:href='#icon-database'></use></svg></label><div class='xr-var-attrs'><dl class='xr-attrs'></dl></div><div class='xr-var-data'><pre>array([[[0.22474557, 0.31669945, 0.3166417 , ..., 0.38499764,\n",
       "         0.32271463, 0.308877  ],\n",
       "        [0.15128723, 0.22191319, 0.27278322, ..., 0.39594263,\n",
       "         0.34421542, 0.34077054],\n",
       "        [0.1597183 , 0.16323057, 0.21401167, ..., 0.36431384,\n",
       "         0.4262883 , 0.425345  ],\n",
       "        ...,\n",
       "        [0.5129647 , 0.34614465, 0.27102622, ..., 0.6359458 ,\n",
       "         0.470829  , 0.3223546 ],\n",
       "        [0.29089203, 0.23060444, 0.29155016, ..., 0.361664  ,\n",
       "         0.33074912, 0.2418415 ],\n",
       "        [0.3042177 , 0.36018494, 0.4394834 , ..., 0.4967264 ,\n",
       "         0.38852695, 0.6562032 ]],\n",
       "\n",
       "       [[0.29813552, 0.23610313, 0.2517463 , ..., 0.6150926 ,\n",
       "         0.60497093, 0.60878694],\n",
       "        [0.2615289 , 0.2577383 , 0.22361666, ..., 0.54366493,\n",
       "         0.6034918 , 0.64902556],\n",
       "        [0.21477   , 0.22360449, 0.23271924, ..., 0.50257945,\n",
       "         0.50426817, 0.6376814 ],\n",
       "        ...,\n",
       "        [0.5531055 , 0.45660147, 0.2998194 , ..., 0.5347848 ,\n",
       "         0.5321101 , 0.5102839 ],\n",
       "        [0.40370616, 0.43813887, 0.47729567, ..., 0.5392505 ,\n",
       "         0.5029974 , 0.54410905],\n",
       "        [0.4388592 , 0.5753425 , 0.5795091 , ..., 0.5248089 ,\n",
       "         0.53538364, 0.51036066]]], dtype=float32)</pre></div></li><li class='xr-var-item'><div class='xr-var-name'><span>NDWI</span></div><div class='xr-var-dims'>(period, y, x)</div><div class='xr-var-dtype'>float32</div><div class='xr-var-preview xr-preview'>-0.5204 -0.5371 ... 0.4309 0.4268</div><input id='attrs-bf644710-b649-4a1a-9451-2c6788db8ac2' class='xr-var-attrs-in' type='checkbox' disabled><label for='attrs-bf644710-b649-4a1a-9451-2c6788db8ac2' title='Show/Hide attributes'><svg class='icon xr-icon-file-text2'><use xlink:href='#icon-file-text2'></use></svg></label><input id='data-b7ca162b-8dbb-414f-9df3-4db3777313c9' class='xr-var-data-in' type='checkbox'><label for='data-b7ca162b-8dbb-414f-9df3-4db3777313c9' title='Show/Hide data repr'><svg class='icon xr-icon-database'><use xlink:href='#icon-database'></use></svg></label><div class='xr-var-attrs'><dl class='xr-attrs'></dl></div><div class='xr-var-data'><pre>array([[[-0.52042747, -0.5371113 , -0.54900974, ..., -0.5780588 ,\n",
       "         -0.539524  , -0.5795624 ],\n",
       "        [-0.49727255, -0.5350511 , -0.54571724, ..., -0.59055483,\n",
       "         -0.5604528 , -0.592614  ],\n",
       "        [-0.50435823, -0.5183898 , -0.5125851 , ..., -0.58905137,\n",
       "         -0.62968475, -0.61716187],\n",
       "        ...,\n",
       "        [-0.6470903 , -0.55014604, -0.4849165 , ...,  0.11249398,\n",
       "         -0.00599841, -0.04013504],\n",
       "        [-0.55389714, -0.5153536 , -0.48941267, ...,  0.05871705,\n",
       "          0.11249398,  0.11249398],\n",
       "        [-0.57745564, -0.56915593, -0.6048516 , ...,  0.1082873 ,\n",
       "          0.07800841,  0.13842429]],\n",
       "\n",
       "       [[-0.5273694 , -0.5147472 , -0.5258855 , ..., -0.7020808 ,\n",
       "         -0.7038506 , -0.70390415],\n",
       "        [-0.5346385 , -0.5405405 , -0.51965994, ..., -0.65409315,\n",
       "         -0.69343054, -0.7202562 ],\n",
       "        [-0.5008298 , -0.536859  , -0.527398  , ..., -0.65683013,\n",
       "         -0.62902606, -0.6942651 ],\n",
       "        ...,\n",
       "        [-0.6850079 , -0.640055  , -0.58983797, ...,  0.43639237,\n",
       "          0.43884817,  0.43456453],\n",
       "        [-0.6648352 , -0.612011  , -0.5982533 , ...,  0.43910366,\n",
       "          0.4364242 ,  0.43419594],\n",
       "        [-0.65613467, -0.6937984 , -0.6882129 , ...,  0.44048467,\n",
       "          0.43091735,  0.4268106 ]]], dtype=float32)</pre></div></li><li class='xr-var-item'><div class='xr-var-name'><span>Kmeans_Class</span></div><div class='xr-var-dims'>(period, y, x)</div><div class='xr-var-dtype'>int16</div><div class='xr-var-preview xr-preview'>1 1 1 1 1 1 1 1 ... 1 1 1 1 1 1 1 1</div><input id='attrs-651fb406-8120-4d79-978e-6cc8cc0d4c22' class='xr-var-attrs-in' type='checkbox' disabled><label for='attrs-651fb406-8120-4d79-978e-6cc8cc0d4c22' title='Show/Hide attributes'><svg class='icon xr-icon-file-text2'><use xlink:href='#icon-file-text2'></use></svg></label><input id='data-cdfdaaaa-c614-4b74-8cb9-ca34194e7b38' class='xr-var-data-in' type='checkbox'><label for='data-cdfdaaaa-c614-4b74-8cb9-ca34194e7b38' title='Show/Hide data repr'><svg class='icon xr-icon-database'><use xlink:href='#icon-database'></use></svg></label><div class='xr-var-attrs'><dl class='xr-attrs'></dl></div><div class='xr-var-data'><pre>array([[[1, 1, 1, ..., 1, 1, 1],\n",
       "        [1, 1, 1, ..., 1, 1, 1],\n",
       "        [1, 1, 1, ..., 1, 1, 1],\n",
       "        ...,\n",
       "        [1, 1, 1, ..., 1, 1, 1],\n",
       "        [1, 1, 1, ..., 1, 1, 1],\n",
       "        [1, 1, 1, ..., 1, 1, 1]],\n",
       "\n",
       "       [[1, 1, 1, ..., 1, 1, 1],\n",
       "        [1, 1, 1, ..., 1, 1, 1],\n",
       "        [1, 1, 1, ..., 1, 1, 1],\n",
       "        ...,\n",
       "        [1, 1, 1, ..., 1, 1, 1],\n",
       "        [1, 1, 1, ..., 1, 1, 1],\n",
       "        [1, 1, 1, ..., 1, 1, 1]]], dtype=int16)</pre></div></li><li class='xr-var-item'><div class='xr-var-name'><span>RF_Class</span></div><div class='xr-var-dims'>(period, y, x)</div><div class='xr-var-dtype'>int16</div><div class='xr-var-preview xr-preview'>4 4 4 4 4 4 4 4 ... 1 1 1 1 1 1 1 1</div><input id='attrs-ee6f0023-8a7e-4f22-8e68-b07f074f9ac5' class='xr-var-attrs-in' type='checkbox' disabled><label for='attrs-ee6f0023-8a7e-4f22-8e68-b07f074f9ac5' title='Show/Hide attributes'><svg class='icon xr-icon-file-text2'><use xlink:href='#icon-file-text2'></use></svg></label><input id='data-5e894d38-9a1b-41ea-8ab4-3d105dad498e' class='xr-var-data-in' type='checkbox'><label for='data-5e894d38-9a1b-41ea-8ab4-3d105dad498e' title='Show/Hide data repr'><svg class='icon xr-icon-database'><use xlink:href='#icon-database'></use></svg></label><div class='xr-var-attrs'><dl class='xr-attrs'></dl></div><div class='xr-var-data'><pre>array([[[4, 4, 4, ..., 4, 4, 4],\n",
       "        [4, 4, 4, ..., 4, 4, 4],\n",
       "        [4, 4, 4, ..., 4, 4, 4],\n",
       "        ...,\n",
       "        [4, 2, 2, ..., 1, 1, 1],\n",
       "        [4, 4, 4, ..., 1, 1, 1],\n",
       "        [4, 4, 4, ..., 1, 1, 1]],\n",
       "\n",
       "       [[4, 4, 3, ..., 5, 3, 3],\n",
       "        [4, 4, 4, ..., 5, 5, 5],\n",
       "        [4, 4, 4, ..., 3, 5, 5],\n",
       "        ...,\n",
       "        [5, 3, 3, ..., 1, 1, 1],\n",
       "        [3, 3, 3, ..., 1, 1, 1],\n",
       "        [5, 5, 5, ..., 1, 1, 1]]], dtype=int16)</pre></div></li></ul></div></li><li class='xr-section-item'><input id='section-297185c7-a34f-496f-9a46-369a6db857ed' class='xr-section-summary-in' type='checkbox'  ><label for='section-297185c7-a34f-496f-9a46-369a6db857ed' class='xr-section-summary' >Indexes: <span>(3)</span></label><div class='xr-section-inline-details'></div><div class='xr-section-details'><ul class='xr-var-list'><li class='xr-var-item'><div class='xr-index-name'><div>y</div></div><div class='xr-index-preview'>PandasIndex</div><div></div><input id='index-5f63fa51-5612-4c42-861f-b62110233b67' class='xr-index-data-in' type='checkbox'/><label for='index-5f63fa51-5612-4c42-861f-b62110233b67' title='Show/Hide index repr'><svg class='icon xr-icon-database'><use xlink:href='#icon-database'></use></svg></label><div class='xr-index-data'><pre>PandasIndex(Index([-3716685.0, -3716715.0, -3716745.0, -3716775.0, -3716805.0, -3716835.0,\n",
       "       -3716865.0, -3716895.0, -3716925.0, -3716955.0,\n",
       "       ...\n",
       "       -3731265.0, -3731295.0, -3731325.0, -3731355.0, -3731385.0, -3731415.0,\n",
       "       -3731445.0, -3731475.0, -3731505.0, -3731535.0],\n",
       "      dtype=&#x27;float64&#x27;, name=&#x27;y&#x27;, length=496))</pre></div></li><li class='xr-var-item'><div class='xr-index-name'><div>x</div></div><div class='xr-index-preview'>PandasIndex</div><div></div><input id='index-2a7a237d-a13a-48c2-9214-fa4a5545eded' class='xr-index-data-in' type='checkbox'/><label for='index-2a7a237d-a13a-48c2-9214-fa4a5545eded' title='Show/Hide index repr'><svg class='icon xr-icon-database'><use xlink:href='#icon-database'></use></svg></label><div class='xr-index-data'><pre>PandasIndex(Index([1812465.0, 1812495.0, 1812525.0, 1812555.0, 1812585.0, 1812615.0,\n",
       "       1812645.0, 1812675.0, 1812705.0, 1812735.0,\n",
       "       ...\n",
       "       1835535.0, 1835565.0, 1835595.0, 1835625.0, 1835655.0, 1835685.0,\n",
       "       1835715.0, 1835745.0, 1835775.0, 1835805.0],\n",
       "      dtype=&#x27;float64&#x27;, name=&#x27;x&#x27;, length=779))</pre></div></li><li class='xr-var-item'><div class='xr-index-name'><div>period</div></div><div class='xr-index-preview'>PandasIndex</div><div></div><input id='index-bbab2e46-5e07-43e5-b9ef-59c9b2d60595' class='xr-index-data-in' type='checkbox'/><label for='index-bbab2e46-5e07-43e5-b9ef-59c9b2d60595' title='Show/Hide index repr'><svg class='icon xr-icon-database'><use xlink:href='#icon-database'></use></svg></label><div class='xr-index-data'><pre>PandasIndex(Index([&#x27;Sep 2003&#x27;, &#x27;Sep 2023&#x27;], dtype=&#x27;object&#x27;, name=&#x27;period&#x27;))</pre></div></li></ul></div></li><li class='xr-section-item'><input id='section-c0ed24dd-e8da-4dcf-8884-a2b31d2083ac' class='xr-section-summary-in' type='checkbox' disabled ><label for='section-c0ed24dd-e8da-4dcf-8884-a2b31d2083ac' class='xr-section-summary'  title='Expand/collapse section'>Attributes: <span>(0)</span></label><div class='xr-section-inline-details'></div><div class='xr-section-details'><dl class='xr-attrs'></dl></div></li></ul></div></div>"
      ],
      "text/plain": [
       "<xarray.Dataset>\n",
       "Dimensions:       (period: 2, y: 496, x: 779)\n",
       "Coordinates:\n",
       "  * y             (y) float64 -3.717e+06 -3.717e+06 ... -3.732e+06 -3.732e+06\n",
       "  * x             (x) float64 1.812e+06 1.812e+06 ... 1.836e+06 1.836e+06\n",
       "    spatial_ref   int32 3577\n",
       "  * period        (period) <U8 'Sep 2003' 'Sep 2023'\n",
       "Data variables:\n",
       "    nbart_red     (period, y, x) float32 752.5 693.5 692.5 ... 176.0 176.5 175.0\n",
       "    nbart_blue    (period, y, x) float32 397.5 355.5 367.0 ... 387.5 388.5 389.0\n",
       "    nbart_green   (period, y, x) float32 659.5 624.5 630.5 ... 305.5 304.0 303.0\n",
       "    nbart_nir     (period, y, x) float32 2.076e+03 2.06e+03 ... 124.5 125.5\n",
       "    nbart_swir_1  (period, y, x) float32 2.264e+03 1.94e+03 ... 53.0 53.5\n",
       "    nbart_swir_2  (period, y, x) float32 1.315e+03 1.072e+03 ... 39.5 41.5\n",
       "    NDVI          (period, y, x) float32 0.4719 0.5012 ... -0.1865 -0.1794\n",
       "    NBR           (period, y, x) float32 0.2247 0.3167 0.3166 ... 0.5354 0.5104\n",
       "    NDWI          (period, y, x) float32 -0.5204 -0.5371 ... 0.4309 0.4268\n",
       "    Kmeans_Class  (period, y, x) int16 1 1 1 1 1 1 1 1 1 1 ... 1 1 1 1 1 1 1 1 1\n",
       "    RF_Class      (period, y, x) int16 4 4 4 4 4 4 4 4 4 4 ... 1 1 1 1 1 1 1 1 1"
      ]
     },
     "execution_count": 74,
     "metadata": {},
     "output_type": "execute_result"
    }
   ],
   "source": [
    "ds"
   ]
  },
  {
   "cell_type": "code",
   "execution_count": null,
   "id": "91fe3ca9-9af0-4025-ac97-da30b25ed7b1",
   "metadata": {},
   "outputs": [],
   "source": []
  }
 ],
 "metadata": {
  "kernelspec": {
   "display_name": "Python 3 (ipykernel)",
   "language": "python",
   "name": "python3"
  },
  "language_info": {
   "codemirror_mode": {
    "name": "ipython",
    "version": 3
   },
   "file_extension": ".py",
   "mimetype": "text/x-python",
   "name": "python",
   "nbconvert_exporter": "python",
   "pygments_lexer": "ipython3",
   "version": "3.12.2"
  }
 },
 "nbformat": 4,
 "nbformat_minor": 5
}
